{
 "cells": [
  {
   "cell_type": "markdown",
   "metadata": {},
   "source": [
    "# ASSIGNMENT-2(WEB SCRAPING - Selenium)"
   ]
  },
  {
   "cell_type": "raw",
   "metadata": {},
   "source": [
    "Q1: Write a python program to scrape data for “Data Analyst” Job position in \n",
    "“Bangalore” location. You have to scrape the job-title, job-location, company_name, experience_required. You have to scrape first 10 jobs data.\n",
    "This task will be done in following steps:\n",
    "    \n",
    "1. first get the webpage https://www.naukri.com/\n",
    "    \n",
    "2. Enter “Data Analyst” in “Skill,Designations,Companies” field and enter “Bangalore” \n",
    "in “enter the location” field.\n",
    "\n",
    "3. Then click the search button.\n",
    "\n",
    "4. Then scrape the data for the first 10 jobs results you get.\n",
    "\n",
    "5. Finally create a dataframe of the scraped data.\n",
    "\n",
    "\n",
    "Note- All of the above steps have to be done in code. No step is to be done manually"
   ]
  },
  {
   "cell_type": "code",
   "execution_count": 1,
   "metadata": {},
   "outputs": [],
   "source": [
    "#Lets now import all the required libraries\n",
    "import pandas as pd\n",
    "from bs4 import BeautifulSoup\n",
    "import requests \n",
    "import selenium\n",
    "from selenium import webdriver\n",
    "from selenium.common.exceptions import NoSuchElementException\n",
    "from selenium.webdriver.support.ui import Select\n",
    "from selenium.webdriver.support.ui import WebDriverWait\n",
    "import time"
   ]
  },
  {
   "cell_type": "code",
   "execution_count": 2,
   "metadata": {},
   "outputs": [],
   "source": [
    "#lets first connect to the web driver\n",
    "driver = webdriver.Edge(\"msedgedriver.exe\")"
   ]
  },
  {
   "cell_type": "code",
   "execution_count": 3,
   "metadata": {},
   "outputs": [],
   "source": [
    "url = \"https://www.naukri.com/\"\n",
    "driver.get(url)"
   ]
  },
  {
   "cell_type": "code",
   "execution_count": 4,
   "metadata": {},
   "outputs": [],
   "source": [
    "#finding element for job search bar\n",
    "search_job = driver.find_element_by_id('qsb-keyword-sugg')\n",
    "search_job.clear()\n",
    "search_job.send_keys(\"Data Analyst\")\n",
    "search_loc = driver.find_element_by_xpath(\"//input[@id='qsb-location-sugg']\")\n",
    "search_loc.send_keys(\"Bangalore\")\n",
    "search_loc = driver.find_element_by_xpath(\"//div[@class='search-btn']/button\")\n",
    "search_loc.click()"
   ]
  },
  {
   "cell_type": "code",
   "execution_count": 5,
   "metadata": {},
   "outputs": [],
   "source": [
    "#creating the empty list\n",
    "job_titles=[]\n",
    "company_names=[]\n",
    "job_location=[]\n",
    "experienced_required=[]"
   ]
  },
  {
   "cell_type": "code",
   "execution_count": 6,
   "metadata": {},
   "outputs": [
    {
     "data": {
      "text/plain": [
       "[<selenium.webdriver.remote.webelement.WebElement (session=\"b87a50de0f862801a234564dfb122d3c\", element=\"823b18fb-bcd2-49a0-9215-46fa9da50c45\")>,\n",
       " <selenium.webdriver.remote.webelement.WebElement (session=\"b87a50de0f862801a234564dfb122d3c\", element=\"206ee723-b584-4f2d-8ba6-de6b783bd6db\")>,\n",
       " <selenium.webdriver.remote.webelement.WebElement (session=\"b87a50de0f862801a234564dfb122d3c\", element=\"e80a66f0-d343-47c7-85a0-56075e0d7708\")>,\n",
       " <selenium.webdriver.remote.webelement.WebElement (session=\"b87a50de0f862801a234564dfb122d3c\", element=\"f334775d-b9ef-4b46-b809-a68dd27eed6c\")>,\n",
       " <selenium.webdriver.remote.webelement.WebElement (session=\"b87a50de0f862801a234564dfb122d3c\", element=\"ac7b4caa-8136-491a-847b-830c7144702e\")>,\n",
       " <selenium.webdriver.remote.webelement.WebElement (session=\"b87a50de0f862801a234564dfb122d3c\", element=\"e28e278f-b3d5-45e2-87a6-2d9bce04aabe\")>,\n",
       " <selenium.webdriver.remote.webelement.WebElement (session=\"b87a50de0f862801a234564dfb122d3c\", element=\"58ab1612-b0bd-402f-85b1-3582265bc54c\")>,\n",
       " <selenium.webdriver.remote.webelement.WebElement (session=\"b87a50de0f862801a234564dfb122d3c\", element=\"273eca59-8327-4ae8-8415-9d1c0233a143\")>,\n",
       " <selenium.webdriver.remote.webelement.WebElement (session=\"b87a50de0f862801a234564dfb122d3c\", element=\"a7210a8a-7dd3-4ff7-825e-47c57b25b7ad\")>,\n",
       " <selenium.webdriver.remote.webelement.WebElement (session=\"b87a50de0f862801a234564dfb122d3c\", element=\"d142439a-6946-42f7-89e1-6ce594665e5c\")>,\n",
       " <selenium.webdriver.remote.webelement.WebElement (session=\"b87a50de0f862801a234564dfb122d3c\", element=\"c7aca3cc-3701-4914-9f07-e38ccaaa3d9e\")>,\n",
       " <selenium.webdriver.remote.webelement.WebElement (session=\"b87a50de0f862801a234564dfb122d3c\", element=\"92200b84-ecee-4df6-9b04-fb846e4d5b0b\")>,\n",
       " <selenium.webdriver.remote.webelement.WebElement (session=\"b87a50de0f862801a234564dfb122d3c\", element=\"6b2ce013-cbc5-463c-a83e-ab008e9bc863\")>,\n",
       " <selenium.webdriver.remote.webelement.WebElement (session=\"b87a50de0f862801a234564dfb122d3c\", element=\"f7fdcb1b-f5c8-4c70-8afb-513ad29cdc99\")>,\n",
       " <selenium.webdriver.remote.webelement.WebElement (session=\"b87a50de0f862801a234564dfb122d3c\", element=\"254bcc2f-0a27-4410-b647-55e8cdc9e4f1\")>,\n",
       " <selenium.webdriver.remote.webelement.WebElement (session=\"b87a50de0f862801a234564dfb122d3c\", element=\"91689c2e-03d7-4d37-8baf-fb1c04893351\")>,\n",
       " <selenium.webdriver.remote.webelement.WebElement (session=\"b87a50de0f862801a234564dfb122d3c\", element=\"105f00d5-23d0-4b2f-8979-663f9d1b46e9\")>,\n",
       " <selenium.webdriver.remote.webelement.WebElement (session=\"b87a50de0f862801a234564dfb122d3c\", element=\"277fe05a-c4b3-40c9-b748-a0410d6d8ce4\")>,\n",
       " <selenium.webdriver.remote.webelement.WebElement (session=\"b87a50de0f862801a234564dfb122d3c\", element=\"497aea88-7cbe-4366-99b6-51b3506bf6a1\")>,\n",
       " <selenium.webdriver.remote.webelement.WebElement (session=\"b87a50de0f862801a234564dfb122d3c\", element=\"9bc6dcdd-8777-4908-a26e-eb9caf1fcc0e\")>]"
      ]
     },
     "execution_count": 6,
     "metadata": {},
     "output_type": "execute_result"
    }
   ],
   "source": [
    "#extracting all the tags having job titles\n",
    "titles_tags = driver.find_elements_by_xpath(\"//a[@class='title fw500 ellipsis']\")\n",
    "titles_tags"
   ]
  },
  {
   "cell_type": "code",
   "execution_count": 7,
   "metadata": {},
   "outputs": [
    {
     "data": {
      "text/plain": [
       "['Data Scientist / Data Analyst -Business Analyst',\n",
       " 'Data Analyst - Informatica MDM',\n",
       " 'Assistant Vice President - MIS & Reporting ( Business Data Analyst)',\n",
       " 'Data Analyst',\n",
       " 'Hiring For Data Analyst/ MIS Reporting Analyst - Bangalore',\n",
       " 'Consultant-Data Analyst -Bangalore',\n",
       " 'Data analyst - Google Analytics',\n",
       " 'SW Technologist I- Data Analyst',\n",
       " 'Data Analyst',\n",
       " 'Hiring For Data Analyst @ Flipkart on Contract']"
      ]
     },
     "execution_count": 7,
     "metadata": {},
     "output_type": "execute_result"
    }
   ],
   "source": [
    "#running loop to iterate over the tags extracted above and extract inside them\n",
    "for i in titles_tags[:10]:\n",
    "    job_titles.append(i.text)\n",
    "job_titles"
   ]
  },
  {
   "cell_type": "code",
   "execution_count": 8,
   "metadata": {},
   "outputs": [
    {
     "data": {
      "text/plain": [
       "[<selenium.webdriver.remote.webelement.WebElement (session=\"b87a50de0f862801a234564dfb122d3c\", element=\"c1a4019e-ebc8-4218-8911-d5811c80baaf\")>,\n",
       " <selenium.webdriver.remote.webelement.WebElement (session=\"b87a50de0f862801a234564dfb122d3c\", element=\"a10b02df-7ed6-4a09-99e3-1fbdfded99e8\")>,\n",
       " <selenium.webdriver.remote.webelement.WebElement (session=\"b87a50de0f862801a234564dfb122d3c\", element=\"e1c76690-fb13-4474-a171-c59e2c437c36\")>,\n",
       " <selenium.webdriver.remote.webelement.WebElement (session=\"b87a50de0f862801a234564dfb122d3c\", element=\"d3e2ba56-8b21-4e53-92a9-c2f6fb5e05cb\")>,\n",
       " <selenium.webdriver.remote.webelement.WebElement (session=\"b87a50de0f862801a234564dfb122d3c\", element=\"9ca4836c-f2e6-4674-8b56-a8c98208a23e\")>,\n",
       " <selenium.webdriver.remote.webelement.WebElement (session=\"b87a50de0f862801a234564dfb122d3c\", element=\"b10b84dc-d1b3-462b-ae15-ad1a26341f37\")>,\n",
       " <selenium.webdriver.remote.webelement.WebElement (session=\"b87a50de0f862801a234564dfb122d3c\", element=\"c2cd3a94-2561-4d64-9fa1-11cb342013c8\")>,\n",
       " <selenium.webdriver.remote.webelement.WebElement (session=\"b87a50de0f862801a234564dfb122d3c\", element=\"78334954-ff45-4329-8e08-8080ff200595\")>,\n",
       " <selenium.webdriver.remote.webelement.WebElement (session=\"b87a50de0f862801a234564dfb122d3c\", element=\"df177f38-c6d3-4ad3-b9b5-43abfb8a518b\")>,\n",
       " <selenium.webdriver.remote.webelement.WebElement (session=\"b87a50de0f862801a234564dfb122d3c\", element=\"821a5528-0a2a-42bc-920a-5bb45b5132b5\")>,\n",
       " <selenium.webdriver.remote.webelement.WebElement (session=\"b87a50de0f862801a234564dfb122d3c\", element=\"f7a3469c-f425-45a4-b9c0-1d0dc93b9c6d\")>,\n",
       " <selenium.webdriver.remote.webelement.WebElement (session=\"b87a50de0f862801a234564dfb122d3c\", element=\"bc8f46ef-ecce-4361-9139-55787cfd4343\")>,\n",
       " <selenium.webdriver.remote.webelement.WebElement (session=\"b87a50de0f862801a234564dfb122d3c\", element=\"b0018a33-26ba-4a8a-b53d-8567f5928e07\")>,\n",
       " <selenium.webdriver.remote.webelement.WebElement (session=\"b87a50de0f862801a234564dfb122d3c\", element=\"06adb8a2-6987-4f9f-979a-40503aca8f4d\")>,\n",
       " <selenium.webdriver.remote.webelement.WebElement (session=\"b87a50de0f862801a234564dfb122d3c\", element=\"0edba13b-c575-4aa1-88d6-986542726ed8\")>,\n",
       " <selenium.webdriver.remote.webelement.WebElement (session=\"b87a50de0f862801a234564dfb122d3c\", element=\"86f74656-3871-45e6-a103-0537af0ed21a\")>,\n",
       " <selenium.webdriver.remote.webelement.WebElement (session=\"b87a50de0f862801a234564dfb122d3c\", element=\"a3454963-bd76-4bb5-b239-362758403ffe\")>,\n",
       " <selenium.webdriver.remote.webelement.WebElement (session=\"b87a50de0f862801a234564dfb122d3c\", element=\"8daa38b6-ae5a-47c0-871d-ae4848e4c2a7\")>,\n",
       " <selenium.webdriver.remote.webelement.WebElement (session=\"b87a50de0f862801a234564dfb122d3c\", element=\"b75f1e43-0ccc-41e9-bf03-928413a312a2\")>,\n",
       " <selenium.webdriver.remote.webelement.WebElement (session=\"b87a50de0f862801a234564dfb122d3c\", element=\"ddff511b-58b3-4378-924a-d834d0cc9e21\")>]"
      ]
     },
     "execution_count": 8,
     "metadata": {},
     "output_type": "execute_result"
    }
   ],
   "source": [
    "#extracting all the tags having the company names\n",
    "companies_tags = driver.find_elements_by_xpath(\"//a[@class='subTitle ellipsis fleft']\")\n",
    "companies_tags"
   ]
  },
  {
   "cell_type": "code",
   "execution_count": 9,
   "metadata": {},
   "outputs": [
    {
     "data": {
      "text/plain": [
       "['Inflexion Analytix Private Limited',\n",
       " 'Shell India Markets Private Limited',\n",
       " 'INTERTRUSTVITEOS CORPORATE AND FUND SERVICES PVT. LTD.',\n",
       " 'SA Tech Software (I) Pvt. Ltd.',\n",
       " 'PHARMACEUTICAL RESEARCH ASSOCIATES INDIA Pvt Ltd',\n",
       " 'Innovsource Services Private Limited',\n",
       " 'H and M Hennes and Mauritz (P) Ltd.',\n",
       " 'Philips India Limited',\n",
       " 'Flipkart Internet Private Limited',\n",
       " 'Flipkart Internet Private Limited']"
      ]
     },
     "execution_count": 9,
     "metadata": {},
     "output_type": "execute_result"
    }
   ],
   "source": [
    "#running loop to iterate over the tags extracted above and extract inside them\n",
    "for i in companies_tags[:10]:\n",
    "    company_names.append(i.text)\n",
    "company_names"
   ]
  },
  {
   "cell_type": "code",
   "execution_count": 10,
   "metadata": {},
   "outputs": [
    {
     "data": {
      "text/plain": [
       "[<selenium.webdriver.remote.webelement.WebElement (session=\"b87a50de0f862801a234564dfb122d3c\", element=\"01ca945d-7507-4aa6-bdd5-677e4888ae50\")>,\n",
       " <selenium.webdriver.remote.webelement.WebElement (session=\"b87a50de0f862801a234564dfb122d3c\", element=\"5ac8070b-bb10-4dce-817f-7abb8383050a\")>,\n",
       " <selenium.webdriver.remote.webelement.WebElement (session=\"b87a50de0f862801a234564dfb122d3c\", element=\"3027db27-0b26-49f5-88ea-5badf957a9a6\")>,\n",
       " <selenium.webdriver.remote.webelement.WebElement (session=\"b87a50de0f862801a234564dfb122d3c\", element=\"52135613-77c1-41fb-9c05-d340ad4b4cc9\")>,\n",
       " <selenium.webdriver.remote.webelement.WebElement (session=\"b87a50de0f862801a234564dfb122d3c\", element=\"0ad26f42-16ce-41c4-951e-82ad326f03b2\")>,\n",
       " <selenium.webdriver.remote.webelement.WebElement (session=\"b87a50de0f862801a234564dfb122d3c\", element=\"c44780c5-e444-46f8-b466-d7d173c7fc62\")>,\n",
       " <selenium.webdriver.remote.webelement.WebElement (session=\"b87a50de0f862801a234564dfb122d3c\", element=\"f79a55be-76eb-4058-aab1-188a18b4dd09\")>,\n",
       " <selenium.webdriver.remote.webelement.WebElement (session=\"b87a50de0f862801a234564dfb122d3c\", element=\"cb2ec490-6139-49c4-b3e3-ab238f161872\")>,\n",
       " <selenium.webdriver.remote.webelement.WebElement (session=\"b87a50de0f862801a234564dfb122d3c\", element=\"73dc5710-d352-4df9-9ab8-cfaf9b9d402c\")>,\n",
       " <selenium.webdriver.remote.webelement.WebElement (session=\"b87a50de0f862801a234564dfb122d3c\", element=\"a9656698-aa32-4f46-8037-84c8ecb44de0\")>,\n",
       " <selenium.webdriver.remote.webelement.WebElement (session=\"b87a50de0f862801a234564dfb122d3c\", element=\"8b5f1211-3026-49d7-baac-546ae459fa5e\")>,\n",
       " <selenium.webdriver.remote.webelement.WebElement (session=\"b87a50de0f862801a234564dfb122d3c\", element=\"8d71305c-0d6c-440b-98b3-610f04a55873\")>,\n",
       " <selenium.webdriver.remote.webelement.WebElement (session=\"b87a50de0f862801a234564dfb122d3c\", element=\"1fa4e6a6-3b94-41ce-8405-dfa4263d56dc\")>,\n",
       " <selenium.webdriver.remote.webelement.WebElement (session=\"b87a50de0f862801a234564dfb122d3c\", element=\"c8a2cd02-b25d-40ae-a530-58060096fe3b\")>,\n",
       " <selenium.webdriver.remote.webelement.WebElement (session=\"b87a50de0f862801a234564dfb122d3c\", element=\"a1cc0507-a063-49a4-8e20-0541be874ab0\")>,\n",
       " <selenium.webdriver.remote.webelement.WebElement (session=\"b87a50de0f862801a234564dfb122d3c\", element=\"fb975e6d-61b0-4aca-9da4-0c2b505d3cac\")>,\n",
       " <selenium.webdriver.remote.webelement.WebElement (session=\"b87a50de0f862801a234564dfb122d3c\", element=\"9413438b-0ffd-4bc8-a578-6790e766e0f7\")>,\n",
       " <selenium.webdriver.remote.webelement.WebElement (session=\"b87a50de0f862801a234564dfb122d3c\", element=\"299fff94-5548-434d-8ad9-dcb0395d8fe5\")>,\n",
       " <selenium.webdriver.remote.webelement.WebElement (session=\"b87a50de0f862801a234564dfb122d3c\", element=\"94ba705a-eed1-490f-b73b-41fbfad5294d\")>,\n",
       " <selenium.webdriver.remote.webelement.WebElement (session=\"b87a50de0f862801a234564dfb122d3c\", element=\"71864851-7fd8-4361-a4bc-724812fbeaba\")>]"
      ]
     },
     "execution_count": 10,
     "metadata": {},
     "output_type": "execute_result"
    }
   ],
   "source": [
    "#extracting all the tags having the job locations\n",
    "location_tags = driver.find_elements_by_xpath(\"//li[@class='fleft grey-text br2 placeHolderLi location']\")\n",
    "location_tags"
   ]
  },
  {
   "cell_type": "code",
   "execution_count": 11,
   "metadata": {},
   "outputs": [
    {
     "data": {
      "text/plain": [
       "['Mumbai, Hyderabad/Secunderabad, Pune, Gurgaon/Gurugram, Chennai, Bangalore/Bengaluru',\n",
       " 'Bangalore/Bengaluru',\n",
       " 'Mumbai, Bangalore/Bengaluru',\n",
       " 'Kolkata, Pune, Chennai, Bangalore/Bengaluru, Delhi / NCR, Mumbai (All Areas)',\n",
       " 'Bangalore/Bengaluru',\n",
       " 'Bangalore/Bengaluru',\n",
       " 'Bangalore/Bengaluru',\n",
       " 'Bangalore/Bengaluru',\n",
       " 'Bangalore/Bengaluru',\n",
       " 'Bangalore/Bengaluru']"
      ]
     },
     "execution_count": 11,
     "metadata": {},
     "output_type": "execute_result"
    }
   ],
   "source": [
    "#running loop to iterate over the tags extracted above and extract inside them\n",
    "for i in location_tags[:10]:\n",
    "    job_location.append(i.text)\n",
    "job_location"
   ]
  },
  {
   "cell_type": "code",
   "execution_count": 12,
   "metadata": {},
   "outputs": [
    {
     "data": {
      "text/plain": [
       "[<selenium.webdriver.remote.webelement.WebElement (session=\"b87a50de0f862801a234564dfb122d3c\", element=\"fe79484b-5ae4-4d3d-8b8b-7b022857872a\")>,\n",
       " <selenium.webdriver.remote.webelement.WebElement (session=\"b87a50de0f862801a234564dfb122d3c\", element=\"b73538a4-0624-4767-833e-9807f970cc80\")>,\n",
       " <selenium.webdriver.remote.webelement.WebElement (session=\"b87a50de0f862801a234564dfb122d3c\", element=\"feae3941-c0e8-4e42-9e3a-d8c85bcd9211\")>,\n",
       " <selenium.webdriver.remote.webelement.WebElement (session=\"b87a50de0f862801a234564dfb122d3c\", element=\"ecacbd59-1325-448e-996e-afa4db0738ec\")>,\n",
       " <selenium.webdriver.remote.webelement.WebElement (session=\"b87a50de0f862801a234564dfb122d3c\", element=\"5e7327b7-9a97-476d-b80f-2d11dcca54c0\")>,\n",
       " <selenium.webdriver.remote.webelement.WebElement (session=\"b87a50de0f862801a234564dfb122d3c\", element=\"28f150a0-5c42-475f-b210-3ed047bad48a\")>,\n",
       " <selenium.webdriver.remote.webelement.WebElement (session=\"b87a50de0f862801a234564dfb122d3c\", element=\"c2adc72a-eb85-499a-9a26-72c15fec187a\")>,\n",
       " <selenium.webdriver.remote.webelement.WebElement (session=\"b87a50de0f862801a234564dfb122d3c\", element=\"f7da6ecf-a199-4f1f-a4a5-139e0682259e\")>,\n",
       " <selenium.webdriver.remote.webelement.WebElement (session=\"b87a50de0f862801a234564dfb122d3c\", element=\"ad5af15d-0298-47fc-aa5e-b02828b9eb89\")>,\n",
       " <selenium.webdriver.remote.webelement.WebElement (session=\"b87a50de0f862801a234564dfb122d3c\", element=\"8f7a0fdc-4580-49ba-8993-7ad57a811c6e\")>,\n",
       " <selenium.webdriver.remote.webelement.WebElement (session=\"b87a50de0f862801a234564dfb122d3c\", element=\"7daf0715-3efb-4901-8274-623bd6b2349c\")>,\n",
       " <selenium.webdriver.remote.webelement.WebElement (session=\"b87a50de0f862801a234564dfb122d3c\", element=\"0fb84899-83cf-4720-b8d0-6e4d31fff7d0\")>,\n",
       " <selenium.webdriver.remote.webelement.WebElement (session=\"b87a50de0f862801a234564dfb122d3c\", element=\"bca0dd36-ea7e-49e5-8e1b-daac3f21ba61\")>,\n",
       " <selenium.webdriver.remote.webelement.WebElement (session=\"b87a50de0f862801a234564dfb122d3c\", element=\"ad1eae79-68a6-4315-bbe7-bae2281b8a99\")>,\n",
       " <selenium.webdriver.remote.webelement.WebElement (session=\"b87a50de0f862801a234564dfb122d3c\", element=\"43e5c75d-70bd-4caf-b422-008965f31c56\")>,\n",
       " <selenium.webdriver.remote.webelement.WebElement (session=\"b87a50de0f862801a234564dfb122d3c\", element=\"fdb4bbed-d834-4800-8f83-5eff5a454365\")>,\n",
       " <selenium.webdriver.remote.webelement.WebElement (session=\"b87a50de0f862801a234564dfb122d3c\", element=\"45c09884-5328-4d08-beee-d652a4a0f531\")>,\n",
       " <selenium.webdriver.remote.webelement.WebElement (session=\"b87a50de0f862801a234564dfb122d3c\", element=\"d6c472eb-e2ba-4895-b6d0-9b20db7e18c1\")>,\n",
       " <selenium.webdriver.remote.webelement.WebElement (session=\"b87a50de0f862801a234564dfb122d3c\", element=\"a4cc3141-7a01-40e8-80a3-2f72a665341d\")>,\n",
       " <selenium.webdriver.remote.webelement.WebElement (session=\"b87a50de0f862801a234564dfb122d3c\", element=\"bd9386ac-4a83-4f60-b779-ad11fd22a798\")>]"
      ]
     },
     "execution_count": 12,
     "metadata": {},
     "output_type": "execute_result"
    }
   ],
   "source": [
    "#extracting all the tags having experince required\n",
    "experience_tags = driver.find_elements_by_xpath(\"//li[@class='fleft grey-text br2 placeHolderLi experience']\")\n",
    "experience_tags"
   ]
  },
  {
   "cell_type": "code",
   "execution_count": 13,
   "metadata": {},
   "outputs": [
    {
     "data": {
      "text/plain": [
       "['0-3 Yrs',\n",
       " '6-9 Yrs',\n",
       " '12-18 Yrs',\n",
       " '1-3 Yrs',\n",
       " '2-4 Yrs',\n",
       " '2-7 Yrs',\n",
       " '4-7 Yrs',\n",
       " '5-10 Yrs',\n",
       " '1-3 Yrs',\n",
       " '2-6 Yrs']"
      ]
     },
     "execution_count": 13,
     "metadata": {},
     "output_type": "execute_result"
    }
   ],
   "source": [
    "#running loop to iterate over the tags extracted above and extract inside them\n",
    "for i in experience_tags[:10]:\n",
    "    experienced_required.append(i.text)\n",
    "experienced_required"
   ]
  },
  {
   "cell_type": "code",
   "execution_count": 14,
   "metadata": {},
   "outputs": [
    {
     "name": "stdout",
     "output_type": "stream",
     "text": [
      "10 10 10 10\n"
     ]
    }
   ],
   "source": [
    "print(len(job_titles),len(company_names),len(job_location),len(experienced_required))"
   ]
  },
  {
   "cell_type": "code",
   "execution_count": 15,
   "metadata": {},
   "outputs": [],
   "source": [
    "#putting in dataframe\n",
    "\n",
    "jobs=pd.DataFrame({})\n",
    "jobs['titles']=job_titles\n",
    "jobs['company']=company_names\n",
    "jobs['experience_required']=experienced_required\n",
    "jobs['location']=job_location"
   ]
  },
  {
   "cell_type": "code",
   "execution_count": 16,
   "metadata": {},
   "outputs": [
    {
     "data": {
      "text/html": [
       "<div>\n",
       "<style scoped>\n",
       "    .dataframe tbody tr th:only-of-type {\n",
       "        vertical-align: middle;\n",
       "    }\n",
       "\n",
       "    .dataframe tbody tr th {\n",
       "        vertical-align: top;\n",
       "    }\n",
       "\n",
       "    .dataframe thead th {\n",
       "        text-align: right;\n",
       "    }\n",
       "</style>\n",
       "<table border=\"1\" class=\"dataframe\">\n",
       "  <thead>\n",
       "    <tr style=\"text-align: right;\">\n",
       "      <th></th>\n",
       "      <th>titles</th>\n",
       "      <th>company</th>\n",
       "      <th>experience_required</th>\n",
       "      <th>location</th>\n",
       "    </tr>\n",
       "  </thead>\n",
       "  <tbody>\n",
       "    <tr>\n",
       "      <th>0</th>\n",
       "      <td>Data Scientist / Data Analyst -Business Analyst</td>\n",
       "      <td>Inflexion Analytix Private Limited</td>\n",
       "      <td>0-3 Yrs</td>\n",
       "      <td>Mumbai, Hyderabad/Secunderabad, Pune, Gurgaon/...</td>\n",
       "    </tr>\n",
       "    <tr>\n",
       "      <th>1</th>\n",
       "      <td>Data Analyst - Informatica MDM</td>\n",
       "      <td>Shell India Markets Private Limited</td>\n",
       "      <td>6-9 Yrs</td>\n",
       "      <td>Bangalore/Bengaluru</td>\n",
       "    </tr>\n",
       "    <tr>\n",
       "      <th>2</th>\n",
       "      <td>Assistant Vice President - MIS &amp; Reporting ( B...</td>\n",
       "      <td>INTERTRUSTVITEOS CORPORATE AND FUND SERVICES P...</td>\n",
       "      <td>12-18 Yrs</td>\n",
       "      <td>Mumbai, Bangalore/Bengaluru</td>\n",
       "    </tr>\n",
       "    <tr>\n",
       "      <th>3</th>\n",
       "      <td>Data Analyst</td>\n",
       "      <td>SA Tech Software (I) Pvt. Ltd.</td>\n",
       "      <td>1-3 Yrs</td>\n",
       "      <td>Kolkata, Pune, Chennai, Bangalore/Bengaluru, D...</td>\n",
       "    </tr>\n",
       "    <tr>\n",
       "      <th>4</th>\n",
       "      <td>Hiring For Data Analyst/ MIS Reporting Analyst...</td>\n",
       "      <td>PHARMACEUTICAL RESEARCH ASSOCIATES INDIA Pvt Ltd</td>\n",
       "      <td>2-4 Yrs</td>\n",
       "      <td>Bangalore/Bengaluru</td>\n",
       "    </tr>\n",
       "    <tr>\n",
       "      <th>5</th>\n",
       "      <td>Consultant-Data Analyst -Bangalore</td>\n",
       "      <td>Innovsource Services Private Limited</td>\n",
       "      <td>2-7 Yrs</td>\n",
       "      <td>Bangalore/Bengaluru</td>\n",
       "    </tr>\n",
       "    <tr>\n",
       "      <th>6</th>\n",
       "      <td>Data analyst - Google Analytics</td>\n",
       "      <td>H and M Hennes and Mauritz (P) Ltd.</td>\n",
       "      <td>4-7 Yrs</td>\n",
       "      <td>Bangalore/Bengaluru</td>\n",
       "    </tr>\n",
       "    <tr>\n",
       "      <th>7</th>\n",
       "      <td>SW Technologist I- Data Analyst</td>\n",
       "      <td>Philips India Limited</td>\n",
       "      <td>5-10 Yrs</td>\n",
       "      <td>Bangalore/Bengaluru</td>\n",
       "    </tr>\n",
       "    <tr>\n",
       "      <th>8</th>\n",
       "      <td>Data Analyst</td>\n",
       "      <td>Flipkart Internet Private Limited</td>\n",
       "      <td>1-3 Yrs</td>\n",
       "      <td>Bangalore/Bengaluru</td>\n",
       "    </tr>\n",
       "    <tr>\n",
       "      <th>9</th>\n",
       "      <td>Hiring For Data Analyst @ Flipkart on Contract</td>\n",
       "      <td>Flipkart Internet Private Limited</td>\n",
       "      <td>2-6 Yrs</td>\n",
       "      <td>Bangalore/Bengaluru</td>\n",
       "    </tr>\n",
       "  </tbody>\n",
       "</table>\n",
       "</div>"
      ],
      "text/plain": [
       "                                              titles  \\\n",
       "0    Data Scientist / Data Analyst -Business Analyst   \n",
       "1                     Data Analyst - Informatica MDM   \n",
       "2  Assistant Vice President - MIS & Reporting ( B...   \n",
       "3                                       Data Analyst   \n",
       "4  Hiring For Data Analyst/ MIS Reporting Analyst...   \n",
       "5                 Consultant-Data Analyst -Bangalore   \n",
       "6                    Data analyst - Google Analytics   \n",
       "7                    SW Technologist I- Data Analyst   \n",
       "8                                       Data Analyst   \n",
       "9     Hiring For Data Analyst @ Flipkart on Contract   \n",
       "\n",
       "                                             company experience_required  \\\n",
       "0                 Inflexion Analytix Private Limited             0-3 Yrs   \n",
       "1                Shell India Markets Private Limited             6-9 Yrs   \n",
       "2  INTERTRUSTVITEOS CORPORATE AND FUND SERVICES P...           12-18 Yrs   \n",
       "3                     SA Tech Software (I) Pvt. Ltd.             1-3 Yrs   \n",
       "4   PHARMACEUTICAL RESEARCH ASSOCIATES INDIA Pvt Ltd             2-4 Yrs   \n",
       "5               Innovsource Services Private Limited             2-7 Yrs   \n",
       "6                H and M Hennes and Mauritz (P) Ltd.             4-7 Yrs   \n",
       "7                              Philips India Limited            5-10 Yrs   \n",
       "8                  Flipkart Internet Private Limited             1-3 Yrs   \n",
       "9                  Flipkart Internet Private Limited             2-6 Yrs   \n",
       "\n",
       "                                            location  \n",
       "0  Mumbai, Hyderabad/Secunderabad, Pune, Gurgaon/...  \n",
       "1                                Bangalore/Bengaluru  \n",
       "2                        Mumbai, Bangalore/Bengaluru  \n",
       "3  Kolkata, Pune, Chennai, Bangalore/Bengaluru, D...  \n",
       "4                                Bangalore/Bengaluru  \n",
       "5                                Bangalore/Bengaluru  \n",
       "6                                Bangalore/Bengaluru  \n",
       "7                                Bangalore/Bengaluru  \n",
       "8                                Bangalore/Bengaluru  \n",
       "9                                Bangalore/Bengaluru  "
      ]
     },
     "execution_count": 16,
     "metadata": {},
     "output_type": "execute_result"
    }
   ],
   "source": [
    "jobs"
   ]
  },
  {
   "cell_type": "code",
   "execution_count": 17,
   "metadata": {},
   "outputs": [],
   "source": [
    "#Closing the driver\n",
    "driver.close()"
   ]
  },
  {
   "cell_type": "code",
   "execution_count": null,
   "metadata": {},
   "outputs": [],
   "source": []
  },
  {
   "cell_type": "raw",
   "metadata": {},
   "source": [
    "Q2: Write a python program to scrape data for “Data Scientist” Job position in “Bangalore” location. You have to scrape the job-title, job-location,\n",
    "company_name, full job-description. You have to scrape first 10 jobs data.\n",
    "This task will be done in following steps:\n",
    "    \n",
    "    1. first get the webpage https://www.naukri.com/\n",
    "    \n",
    "    2. Enter “Data Scientist” in “Skill,Designations,Companies” field and enter “Bangalore” in “enter the location” field.\n",
    "    \n",
    "    3. Then click the search button.\n",
    "    \n",
    "    4. Then scrape the data for the first 10 jobs results you get.\n",
    "    \n",
    "    5. Finally create a dataframe of the scraped data.\n",
    "\n",
    "Note:-\n",
    "    1. All of the above steps have to be done in code. No step is to be done \n",
    "manually.\n",
    "    2.Please note that you have to scrape full job description. For that you may have to \n",
    "open each job separately."
   ]
  },
  {
   "cell_type": "code",
   "execution_count": 18,
   "metadata": {},
   "outputs": [],
   "source": [
    "#lets first connect to the web driver\n",
    "driver = webdriver.Edge(\"msedgedriver.exe\")"
   ]
  },
  {
   "cell_type": "code",
   "execution_count": 19,
   "metadata": {},
   "outputs": [],
   "source": [
    "#Getting the website to driver\n",
    "driver.get('https://www.naukri.com/')"
   ]
  },
  {
   "cell_type": "code",
   "execution_count": 20,
   "metadata": {},
   "outputs": [],
   "source": [
    "#finding element for job search bar\n",
    "search_job = driver.find_element_by_id('qsb-keyword-sugg')\n",
    "search_job.clear()\n",
    "search_job.send_keys(\"Data Scientist\")\n",
    "search_loc = driver.find_element_by_xpath(\"//input[@id='qsb-location-sugg']\")\n",
    "search_loc.send_keys(\"Bangalore\")\n",
    "search_loc = driver.find_element_by_xpath(\"//div[@class='search-btn']/button\")\n",
    "search_loc.click()"
   ]
  },
  {
   "cell_type": "code",
   "execution_count": 21,
   "metadata": {},
   "outputs": [
    {
     "data": {
      "text/plain": [
       "[<selenium.webdriver.remote.webelement.WebElement (session=\"60619a7cdfe65d9318a6811491f4e631\", element=\"c2ceb884-d650-4f55-bb8e-7a22f928e44d\")>,\n",
       " <selenium.webdriver.remote.webelement.WebElement (session=\"60619a7cdfe65d9318a6811491f4e631\", element=\"fc34cfc5-4ccf-4078-900c-5fa4c348934d\")>,\n",
       " <selenium.webdriver.remote.webelement.WebElement (session=\"60619a7cdfe65d9318a6811491f4e631\", element=\"d893598b-d43b-479c-b8cb-dc4f4f03e402\")>,\n",
       " <selenium.webdriver.remote.webelement.WebElement (session=\"60619a7cdfe65d9318a6811491f4e631\", element=\"698616fd-b86b-4cde-8cca-0a8cf8a5cc0c\")>,\n",
       " <selenium.webdriver.remote.webelement.WebElement (session=\"60619a7cdfe65d9318a6811491f4e631\", element=\"e7bc0a2c-cf28-477a-84d7-be4e5e3b075a\")>,\n",
       " <selenium.webdriver.remote.webelement.WebElement (session=\"60619a7cdfe65d9318a6811491f4e631\", element=\"b5de7bd1-0dea-4087-8883-597c8b748a71\")>,\n",
       " <selenium.webdriver.remote.webelement.WebElement (session=\"60619a7cdfe65d9318a6811491f4e631\", element=\"b904f7e0-9a01-4eb4-ae4c-84ec3be7715d\")>,\n",
       " <selenium.webdriver.remote.webelement.WebElement (session=\"60619a7cdfe65d9318a6811491f4e631\", element=\"dd7bcbe0-fb78-4f21-a11a-ca4b29488210\")>,\n",
       " <selenium.webdriver.remote.webelement.WebElement (session=\"60619a7cdfe65d9318a6811491f4e631\", element=\"0be20f8f-87aa-49ea-bc5e-111f6ee3a3bb\")>,\n",
       " <selenium.webdriver.remote.webelement.WebElement (session=\"60619a7cdfe65d9318a6811491f4e631\", element=\"a74a5ac5-0b64-4921-82ee-47ea5752fe39\")>,\n",
       " <selenium.webdriver.remote.webelement.WebElement (session=\"60619a7cdfe65d9318a6811491f4e631\", element=\"9bc43920-0d99-4205-9530-44605238fbab\")>,\n",
       " <selenium.webdriver.remote.webelement.WebElement (session=\"60619a7cdfe65d9318a6811491f4e631\", element=\"9e2d7827-4036-4a2c-9b02-e82aa49846f0\")>,\n",
       " <selenium.webdriver.remote.webelement.WebElement (session=\"60619a7cdfe65d9318a6811491f4e631\", element=\"491a109f-c4d4-4978-b550-bf7ee922a80a\")>,\n",
       " <selenium.webdriver.remote.webelement.WebElement (session=\"60619a7cdfe65d9318a6811491f4e631\", element=\"ad78fae6-8c1f-400a-9340-769ead4119e3\")>,\n",
       " <selenium.webdriver.remote.webelement.WebElement (session=\"60619a7cdfe65d9318a6811491f4e631\", element=\"47982c71-7e8a-4ece-ac35-5b8208a1b943\")>,\n",
       " <selenium.webdriver.remote.webelement.WebElement (session=\"60619a7cdfe65d9318a6811491f4e631\", element=\"59ebe50d-5fdd-4201-b8af-22d9dfd1e7f9\")>,\n",
       " <selenium.webdriver.remote.webelement.WebElement (session=\"60619a7cdfe65d9318a6811491f4e631\", element=\"582e467c-b969-41e7-b9f1-ce5f10021d58\")>,\n",
       " <selenium.webdriver.remote.webelement.WebElement (session=\"60619a7cdfe65d9318a6811491f4e631\", element=\"00578ac0-4cf5-4193-8f9a-f6085c96db4e\")>,\n",
       " <selenium.webdriver.remote.webelement.WebElement (session=\"60619a7cdfe65d9318a6811491f4e631\", element=\"9a064d84-ce20-4f06-aa21-06ecd932e734\")>,\n",
       " <selenium.webdriver.remote.webelement.WebElement (session=\"60619a7cdfe65d9318a6811491f4e631\", element=\"19f97d23-6749-47ed-b8d7-b0efb54b3591\")>]"
      ]
     },
     "execution_count": 21,
     "metadata": {},
     "output_type": "execute_result"
    }
   ],
   "source": [
    "#extracting all the tags having job titles\n",
    "titles_tags = driver.find_elements_by_xpath(\"//a[@class='title fw500 ellipsis']\")\n",
    "titles_tags"
   ]
  },
  {
   "cell_type": "code",
   "execution_count": 22,
   "metadata": {},
   "outputs": [
    {
     "data": {
      "text/plain": [
       "['Data Scientist / Data Analyst -Business Analyst',\n",
       " 'Data Scientist',\n",
       " 'Big Data - Data Scientist',\n",
       " 'Specialist I - Data Scientist',\n",
       " 'Data Scientist',\n",
       " 'Data Scientist',\n",
       " 'SDE Lead Data Scientist-L3',\n",
       " 'Computational Design Lead Data Scientist-L3',\n",
       " 'Hiring For DATA Scientist - ON Contract Basis (3-6 Months)',\n",
       " 'Senior Data Scientist']"
      ]
     },
     "execution_count": 22,
     "metadata": {},
     "output_type": "execute_result"
    }
   ],
   "source": [
    "#running loop to iterate over the tags extracted above and extract inside them\n",
    "job_titles=[]\n",
    "\n",
    "for i in titles_tags[:10]:\n",
    "    job_titles.append(i.text)\n",
    "job_titles"
   ]
  },
  {
   "cell_type": "code",
   "execution_count": 23,
   "metadata": {},
   "outputs": [
    {
     "data": {
      "text/plain": [
       "[<selenium.webdriver.remote.webelement.WebElement (session=\"60619a7cdfe65d9318a6811491f4e631\", element=\"80ecf7db-ceb1-4ba4-b17a-d2d07a8c760e\")>,\n",
       " <selenium.webdriver.remote.webelement.WebElement (session=\"60619a7cdfe65d9318a6811491f4e631\", element=\"07add486-e027-4041-a9c7-51e5f736544b\")>,\n",
       " <selenium.webdriver.remote.webelement.WebElement (session=\"60619a7cdfe65d9318a6811491f4e631\", element=\"5030878a-fc35-4aed-a0e7-fa130289961c\")>,\n",
       " <selenium.webdriver.remote.webelement.WebElement (session=\"60619a7cdfe65d9318a6811491f4e631\", element=\"13e1bbd8-71a8-48dc-8630-b64d4e868eb6\")>,\n",
       " <selenium.webdriver.remote.webelement.WebElement (session=\"60619a7cdfe65d9318a6811491f4e631\", element=\"04ed92a2-02b4-4b2d-a709-de4956f3e4d0\")>,\n",
       " <selenium.webdriver.remote.webelement.WebElement (session=\"60619a7cdfe65d9318a6811491f4e631\", element=\"1c2fae89-ea4d-4442-9eb3-a7fd023625dd\")>,\n",
       " <selenium.webdriver.remote.webelement.WebElement (session=\"60619a7cdfe65d9318a6811491f4e631\", element=\"9f91ac5f-c447-4ac2-b103-20537b606f7a\")>,\n",
       " <selenium.webdriver.remote.webelement.WebElement (session=\"60619a7cdfe65d9318a6811491f4e631\", element=\"7a8bfb97-96aa-4da8-a759-ca237cd779c8\")>,\n",
       " <selenium.webdriver.remote.webelement.WebElement (session=\"60619a7cdfe65d9318a6811491f4e631\", element=\"e398a53d-2ca8-4d1c-bd04-c9cb96d00a1c\")>,\n",
       " <selenium.webdriver.remote.webelement.WebElement (session=\"60619a7cdfe65d9318a6811491f4e631\", element=\"e4ddf483-0b30-44c0-a9b6-8909176ded8b\")>,\n",
       " <selenium.webdriver.remote.webelement.WebElement (session=\"60619a7cdfe65d9318a6811491f4e631\", element=\"4abd6b9b-d4e6-4769-bb45-415dc2335470\")>,\n",
       " <selenium.webdriver.remote.webelement.WebElement (session=\"60619a7cdfe65d9318a6811491f4e631\", element=\"e658f9be-d357-4f77-8676-eae6f0f707a2\")>,\n",
       " <selenium.webdriver.remote.webelement.WebElement (session=\"60619a7cdfe65d9318a6811491f4e631\", element=\"582e86e9-0c7b-4d11-aabb-4423ddd1dd9d\")>,\n",
       " <selenium.webdriver.remote.webelement.WebElement (session=\"60619a7cdfe65d9318a6811491f4e631\", element=\"25414b94-5b25-4354-bde1-c43c6c661016\")>,\n",
       " <selenium.webdriver.remote.webelement.WebElement (session=\"60619a7cdfe65d9318a6811491f4e631\", element=\"b14dd9e3-3690-498f-b307-28356c567092\")>,\n",
       " <selenium.webdriver.remote.webelement.WebElement (session=\"60619a7cdfe65d9318a6811491f4e631\", element=\"c0a9e4f3-861f-407b-b197-8dde1bcdee6a\")>,\n",
       " <selenium.webdriver.remote.webelement.WebElement (session=\"60619a7cdfe65d9318a6811491f4e631\", element=\"e521c154-7d15-4dd0-80c4-3b38985b2e3f\")>,\n",
       " <selenium.webdriver.remote.webelement.WebElement (session=\"60619a7cdfe65d9318a6811491f4e631\", element=\"e1b73d7f-a0f5-4b55-8e81-480113d9ba41\")>,\n",
       " <selenium.webdriver.remote.webelement.WebElement (session=\"60619a7cdfe65d9318a6811491f4e631\", element=\"9ed844a6-cfe4-4569-b1e1-ca0897b05bec\")>,\n",
       " <selenium.webdriver.remote.webelement.WebElement (session=\"60619a7cdfe65d9318a6811491f4e631\", element=\"9b4dc310-aa34-439b-b58e-b853e703d5dd\")>]"
      ]
     },
     "execution_count": 23,
     "metadata": {},
     "output_type": "execute_result"
    }
   ],
   "source": [
    "#extracting all the tags having the company names\n",
    "companies_tags = driver.find_elements_by_xpath(\"//a[@class='subTitle ellipsis fleft']\")\n",
    "companies_tags"
   ]
  },
  {
   "cell_type": "code",
   "execution_count": 24,
   "metadata": {},
   "outputs": [
    {
     "data": {
      "text/plain": [
       "['Inflexion Analytix Private Limited',\n",
       " 'Wipro Limited',\n",
       " 'Xoriant Solutions Pvt Ltd',\n",
       " 'Philips India Limited',\n",
       " 'IBM India Pvt. Limited',\n",
       " 'Oracle India Pvt. Ltd.',\n",
       " 'Huawei Technologies India Pvt Ltd',\n",
       " 'Huawei Technologies India Pvt Ltd',\n",
       " 'GlobalEdx Learning and Technology Solution Pvt Ltd',\n",
       " 'GO-JEK India']"
      ]
     },
     "execution_count": 24,
     "metadata": {},
     "output_type": "execute_result"
    }
   ],
   "source": [
    "#running loop to iterate over the tags extracted above and extract inside them\n",
    "company_names=[]\n",
    "\n",
    "for i in companies_tags[:10]:\n",
    "    company_names.append(i.text)\n",
    "company_names"
   ]
  },
  {
   "cell_type": "code",
   "execution_count": 25,
   "metadata": {},
   "outputs": [
    {
     "data": {
      "text/plain": [
       "[<selenium.webdriver.remote.webelement.WebElement (session=\"60619a7cdfe65d9318a6811491f4e631\", element=\"ffc99264-b79d-4abb-8328-d1def44c9ad7\")>,\n",
       " <selenium.webdriver.remote.webelement.WebElement (session=\"60619a7cdfe65d9318a6811491f4e631\", element=\"e708045f-25c6-4e14-a196-860fbad2cb5c\")>,\n",
       " <selenium.webdriver.remote.webelement.WebElement (session=\"60619a7cdfe65d9318a6811491f4e631\", element=\"3d9b1c9e-e78c-41da-8d28-da3ba8061065\")>,\n",
       " <selenium.webdriver.remote.webelement.WebElement (session=\"60619a7cdfe65d9318a6811491f4e631\", element=\"e070c52c-fb73-4b4a-89a9-c4173ea04024\")>,\n",
       " <selenium.webdriver.remote.webelement.WebElement (session=\"60619a7cdfe65d9318a6811491f4e631\", element=\"7033a3e9-5cf7-49de-b774-bb375684f9a2\")>,\n",
       " <selenium.webdriver.remote.webelement.WebElement (session=\"60619a7cdfe65d9318a6811491f4e631\", element=\"2761539d-1abf-4b2f-865c-77c146c3668b\")>,\n",
       " <selenium.webdriver.remote.webelement.WebElement (session=\"60619a7cdfe65d9318a6811491f4e631\", element=\"fa810920-6258-4d84-b1f6-f9020f25b132\")>,\n",
       " <selenium.webdriver.remote.webelement.WebElement (session=\"60619a7cdfe65d9318a6811491f4e631\", element=\"fc0fcd4d-3381-4095-b065-42ab1b0a4843\")>,\n",
       " <selenium.webdriver.remote.webelement.WebElement (session=\"60619a7cdfe65d9318a6811491f4e631\", element=\"ff78d112-1f72-4c20-bd94-33dfaf02f629\")>,\n",
       " <selenium.webdriver.remote.webelement.WebElement (session=\"60619a7cdfe65d9318a6811491f4e631\", element=\"99f8ce6c-a75b-4654-9b37-420cdcf119bb\")>,\n",
       " <selenium.webdriver.remote.webelement.WebElement (session=\"60619a7cdfe65d9318a6811491f4e631\", element=\"10c47550-7074-4b57-bd96-a89dbfd783c5\")>,\n",
       " <selenium.webdriver.remote.webelement.WebElement (session=\"60619a7cdfe65d9318a6811491f4e631\", element=\"5e1c1dbc-834a-4b68-889c-b3009c7fe367\")>,\n",
       " <selenium.webdriver.remote.webelement.WebElement (session=\"60619a7cdfe65d9318a6811491f4e631\", element=\"3f3d4e5c-9c0f-44f0-8ff7-e218064ce24d\")>,\n",
       " <selenium.webdriver.remote.webelement.WebElement (session=\"60619a7cdfe65d9318a6811491f4e631\", element=\"41516a90-016e-41c6-92bb-4f65d3ec51a1\")>,\n",
       " <selenium.webdriver.remote.webelement.WebElement (session=\"60619a7cdfe65d9318a6811491f4e631\", element=\"276da66f-fb64-4a36-9575-0a2a9ee969c6\")>,\n",
       " <selenium.webdriver.remote.webelement.WebElement (session=\"60619a7cdfe65d9318a6811491f4e631\", element=\"92745b87-5774-450a-876c-333e8d4360b9\")>,\n",
       " <selenium.webdriver.remote.webelement.WebElement (session=\"60619a7cdfe65d9318a6811491f4e631\", element=\"bfe33186-c68e-4628-b693-40e9a39c4009\")>,\n",
       " <selenium.webdriver.remote.webelement.WebElement (session=\"60619a7cdfe65d9318a6811491f4e631\", element=\"24043166-9ec9-4416-af46-efc5a80e5754\")>,\n",
       " <selenium.webdriver.remote.webelement.WebElement (session=\"60619a7cdfe65d9318a6811491f4e631\", element=\"1c06173b-5f03-4506-a422-e52134ea8f2d\")>,\n",
       " <selenium.webdriver.remote.webelement.WebElement (session=\"60619a7cdfe65d9318a6811491f4e631\", element=\"ad89c6c4-60f1-47b5-bac7-79eb7c28edaa\")>]"
      ]
     },
     "execution_count": 25,
     "metadata": {},
     "output_type": "execute_result"
    }
   ],
   "source": [
    "#extracting all the tags having the job locations\n",
    "location_tags = driver.find_elements_by_xpath(\"//li[@class='fleft grey-text br2 placeHolderLi location']\")\n",
    "location_tags"
   ]
  },
  {
   "cell_type": "code",
   "execution_count": 26,
   "metadata": {},
   "outputs": [
    {
     "data": {
      "text/plain": [
       "['Mumbai, Hyderabad/Secunderabad, Pune, Gurgaon/Gurugram, Chennai, Bangalore/Bengaluru',\n",
       " 'Kolkata, Hyderabad/Secunderabad, Chennai, Bangalore/Bengaluru',\n",
       " 'Kochi/Cochin, Indore, Hyderabad/Secunderabad, Pune, Ahmedabad, Bangalore/Bengaluru, Mumbai (All Areas)',\n",
       " 'Bangalore/Bengaluru',\n",
       " 'Bangalore/Bengaluru',\n",
       " 'Bangalore/Bengaluru',\n",
       " 'Bangalore/Bengaluru',\n",
       " 'Bangalore/Bengaluru',\n",
       " 'Hyderabad/Secunderabad, Bangalore/Bengaluru, Mumbai (All Areas)',\n",
       " 'Bangalore/Bengaluru']"
      ]
     },
     "execution_count": 26,
     "metadata": {},
     "output_type": "execute_result"
    }
   ],
   "source": [
    "#running loop to iterate over the tags extracted above and extract inside them\n",
    "job_location=[]\n",
    "\n",
    "for i in location_tags[:10]:\n",
    "    job_location.append(i.text)\n",
    "job_location"
   ]
  },
  {
   "cell_type": "code",
   "execution_count": 27,
   "metadata": {},
   "outputs": [
    {
     "data": {
      "text/plain": [
       "'https://www.naukri.com/job-listings-data-scientist-data-analyst-business-analyst-inflexion-analytix-private-limited-mumbai-hyderabad-secunderabad-pune-gurgaon-gurugram-chennai-bangalore-bengaluru-0-to-3-years-100521000368?src=jobsearchDesk&sid=16217547056886549&xp=1&px=1'"
      ]
     },
     "execution_count": 27,
     "metadata": {},
     "output_type": "execute_result"
    }
   ],
   "source": [
    "#extracting all the tags having job description\n",
    "#jobdescription_tags = driver.find_elements_by_xpath(\"//div[@class='job-description fs12 grey-text']\")\n",
    "#jobdescription_tags\n",
    "\n",
    "#Getting job link for full job description\n",
    "jobDescLink = driver.find_element_by_xpath(f'//*[@id=\"root\"]/div[3]/div[2]/section[2]/div[2]/article[1]/div[1]/div[1]/a').get_attribute('href')\n",
    "jobDescLink"
   ]
  },
  {
   "cell_type": "code",
   "execution_count": 28,
   "metadata": {},
   "outputs": [],
   "source": [
    "\n",
    "def jobInfo(tileNumber):\n",
    "    \"\"\"This function will return all job related information from naukri.com\n",
    "    It will visit each job listing to get the full job description. However, some companies have their own\n",
    "    custom page within naukri.com and these custom pages do not follow a predictable HTML structure. Therefore\n",
    "    whenever such a custom page is encounted, it adds Full Job Description not available in the jobDesc variable\"\"\"\n",
    "    \n",
    "    jobInfoTile = driver.find_element_by_xpath(f'//*[@id=\"root\"]/div[3]/div[2]/section[2]/div[2]/article[{tileNumber}]/div[1]/div').text.split('\\n')\n",
    "    jobTitle = jobInfoTile[0]\n",
    "    jobFirm = jobInfoTile[1]\n",
    "    jobLocation = jobInfoTile[-1]\n",
    "    \n",
    "    jobDescLink = driver.find_element_by_xpath(f'//*[@id=\"root\"]/div[3]/div[2]/section[2]/div[2]/article[{tileNumber}]/div[1]/div[1]/a').get_attribute('href')\n",
    "    \n",
    "    try:\n",
    "        driver.get(jobDescLink)\n",
    "        jobDesc = driver.find_element_by_xpath('//*[@id=\"root\"]/main/div[2]/div[2]/section[2]').text.split('\\n')[1::]\n",
    "        jobDesc = ''.join(jobDesc)\n",
    "        driver.back()\n",
    "        \n",
    "    except:\n",
    "        jobDesc = 'Full Job decription not available'\n",
    "        driver.back()\n",
    "        \n",
    "    finally:\n",
    "        return jobTitle, jobFirm, jobLocation, jobDesc"
   ]
  },
  {
   "cell_type": "code",
   "execution_count": 29,
   "metadata": {},
   "outputs": [
    {
     "name": "stdout",
     "output_type": "stream",
     "text": [
      "Getting Job No. 1\n",
      "\tSuccessfully collected Job 1 Info\n",
      "Getting Job No. 2\n",
      "\tSuccessfully collected Job 2 Info\n",
      "Getting Job No. 3\n",
      "\tSuccessfully collected Job 3 Info\n",
      "Getting Job No. 4\n",
      "\tSuccessfully collected Job 4 Info\n",
      "Getting Job No. 5\n",
      "\tSuccessfully collected Job 5 Info\n",
      "Getting Job No. 6\n",
      "\tSuccessfully collected Job 6 Info\n",
      "Getting Job No. 7\n",
      "\tSuccessfully collected Job 7 Info\n",
      "Getting Job No. 8\n",
      "\tSuccessfully collected Job 8 Info\n",
      "Getting Job No. 9\n",
      "\tSuccessfully collected Job 9 Info\n",
      "Getting Job No. 10\n",
      "\tSuccessfully collected Job 10 Info\n"
     ]
    }
   ],
   "source": [
    "#Getting jo info for the first 10 job listing\n",
    "\n",
    "jobTitle = []\n",
    "jobFirm = []\n",
    "jobLocation = []\n",
    "jobDesc = []\n",
    "\n",
    "for index in range(1,11):\n",
    "    print(f'Getting Job No. {index}')\n",
    "    time.sleep(2)\n",
    "    try:\n",
    "        t ,f, l, d = jobInfo(index)\n",
    "    \n",
    "    except:\n",
    "        print('Except block executed')\n",
    "        continue\n",
    "    \n",
    "    else:\n",
    "        time.sleep(3)\n",
    "        jobTitle.append(t)\n",
    "        jobFirm.append(f)\n",
    "        jobLocation.append(l)\n",
    "        jobDesc.append(d)\n",
    "    print(f'\\tSuccessfully collected Job {index} Info')"
   ]
  },
  {
   "cell_type": "code",
   "execution_count": 30,
   "metadata": {},
   "outputs": [
    {
     "name": "stdout",
     "output_type": "stream",
     "text": [
      "10 10 10 10\n"
     ]
    }
   ],
   "source": [
    "print(len(jobTitle),len(jobFirm),len(jobLocation),len(jobDesc))"
   ]
  },
  {
   "cell_type": "code",
   "execution_count": 31,
   "metadata": {},
   "outputs": [
    {
     "data": {
      "text/html": [
       "<div>\n",
       "<style scoped>\n",
       "    .dataframe tbody tr th:only-of-type {\n",
       "        vertical-align: middle;\n",
       "    }\n",
       "\n",
       "    .dataframe tbody tr th {\n",
       "        vertical-align: top;\n",
       "    }\n",
       "\n",
       "    .dataframe thead th {\n",
       "        text-align: right;\n",
       "    }\n",
       "</style>\n",
       "<table border=\"1\" class=\"dataframe\">\n",
       "  <thead>\n",
       "    <tr style=\"text-align: right;\">\n",
       "      <th></th>\n",
       "      <th>Title</th>\n",
       "      <th>Company</th>\n",
       "      <th>Location</th>\n",
       "      <th>Description</th>\n",
       "    </tr>\n",
       "  </thead>\n",
       "  <tbody>\n",
       "    <tr>\n",
       "      <th>0</th>\n",
       "      <td>Data Scientist / Data Analyst -Business Analyst</td>\n",
       "      <td>Inflexion Analytix Private Limited</td>\n",
       "      <td>Mumbai, Hyderabad/Secunderabad, Pune, Gurgaon/...</td>\n",
       "      <td>Job Role : Data Scientist/Data Analyst /Busine...</td>\n",
       "    </tr>\n",
       "    <tr>\n",
       "      <th>1</th>\n",
       "      <td>Data Scientist</td>\n",
       "      <td>Wipro Limited</td>\n",
       "      <td>Kolkata, Hyderabad/Secunderabad, Chennai, Bang...</td>\n",
       "      <td>Role: Data ScientistRoles and Responsibilities...</td>\n",
       "    </tr>\n",
       "    <tr>\n",
       "      <th>2</th>\n",
       "      <td>Big Data - Data Scientist</td>\n",
       "      <td>Xoriant Solutions Pvt Ltd</td>\n",
       "      <td>Kochi/Cochin, Indore, Hyderabad/Secunderabad, ...</td>\n",
       "      <td>Full Job decription not available</td>\n",
       "    </tr>\n",
       "    <tr>\n",
       "      <th>3</th>\n",
       "      <td>Specialist I - Data Scientist</td>\n",
       "      <td>Philips India Limited</td>\n",
       "      <td>Bangalore/Bengaluru</td>\n",
       "      <td>Responsibilities and Key Result AreasDesign an...</td>\n",
       "    </tr>\n",
       "    <tr>\n",
       "      <th>4</th>\n",
       "      <td>Data Scientist</td>\n",
       "      <td>IBM India Pvt. Limited</td>\n",
       "      <td>Bangalore/Bengaluru</td>\n",
       "      <td>Full Job decription not available</td>\n",
       "    </tr>\n",
       "    <tr>\n",
       "      <th>5</th>\n",
       "      <td>Data Scientist</td>\n",
       "      <td>IBM India Pvt. Limited</td>\n",
       "      <td>Bangalore/Bengaluru</td>\n",
       "      <td>Full Job decription not available</td>\n",
       "    </tr>\n",
       "    <tr>\n",
       "      <th>6</th>\n",
       "      <td>SDE Lead Data Scientist-L3</td>\n",
       "      <td>Huawei Technologies India Pvt Ltd</td>\n",
       "      <td>Bangalore/Bengaluru</td>\n",
       "      <td>Business &amp; Team overview:Founded in 1987, Huaw...</td>\n",
       "    </tr>\n",
       "    <tr>\n",
       "      <th>7</th>\n",
       "      <td>Computational Design Lead Data Scientist-L3</td>\n",
       "      <td>Huawei Technologies India Pvt Ltd</td>\n",
       "      <td>Bangalore/Bengaluru</td>\n",
       "      <td>Business &amp; Team overview:Founded in 1987, Huaw...</td>\n",
       "    </tr>\n",
       "    <tr>\n",
       "      <th>8</th>\n",
       "      <td>Senior Data Scientist</td>\n",
       "      <td>GO-JEK India</td>\n",
       "      <td>Bangalore/Bengaluru</td>\n",
       "      <td>About the RoleFasten your helmet and climb on ...</td>\n",
       "    </tr>\n",
       "    <tr>\n",
       "      <th>9</th>\n",
       "      <td>Senior Data Scientist</td>\n",
       "      <td>nanobi data and analytics private limited</td>\n",
       "      <td>Bangalore/Bengaluru</td>\n",
       "      <td>Expert understanding and demonstrated skills o...</td>\n",
       "    </tr>\n",
       "  </tbody>\n",
       "</table>\n",
       "</div>"
      ],
      "text/plain": [
       "                                             Title  \\\n",
       "0  Data Scientist / Data Analyst -Business Analyst   \n",
       "1                                   Data Scientist   \n",
       "2                        Big Data - Data Scientist   \n",
       "3                    Specialist I - Data Scientist   \n",
       "4                                   Data Scientist   \n",
       "5                                   Data Scientist   \n",
       "6                       SDE Lead Data Scientist-L3   \n",
       "7      Computational Design Lead Data Scientist-L3   \n",
       "8                            Senior Data Scientist   \n",
       "9                            Senior Data Scientist   \n",
       "\n",
       "                                     Company  \\\n",
       "0         Inflexion Analytix Private Limited   \n",
       "1                              Wipro Limited   \n",
       "2                  Xoriant Solutions Pvt Ltd   \n",
       "3                      Philips India Limited   \n",
       "4                     IBM India Pvt. Limited   \n",
       "5                     IBM India Pvt. Limited   \n",
       "6          Huawei Technologies India Pvt Ltd   \n",
       "7          Huawei Technologies India Pvt Ltd   \n",
       "8                               GO-JEK India   \n",
       "9  nanobi data and analytics private limited   \n",
       "\n",
       "                                            Location  \\\n",
       "0  Mumbai, Hyderabad/Secunderabad, Pune, Gurgaon/...   \n",
       "1  Kolkata, Hyderabad/Secunderabad, Chennai, Bang...   \n",
       "2  Kochi/Cochin, Indore, Hyderabad/Secunderabad, ...   \n",
       "3                                Bangalore/Bengaluru   \n",
       "4                                Bangalore/Bengaluru   \n",
       "5                                Bangalore/Bengaluru   \n",
       "6                                Bangalore/Bengaluru   \n",
       "7                                Bangalore/Bengaluru   \n",
       "8                                Bangalore/Bengaluru   \n",
       "9                                Bangalore/Bengaluru   \n",
       "\n",
       "                                         Description  \n",
       "0  Job Role : Data Scientist/Data Analyst /Busine...  \n",
       "1  Role: Data ScientistRoles and Responsibilities...  \n",
       "2                  Full Job decription not available  \n",
       "3  Responsibilities and Key Result AreasDesign an...  \n",
       "4                  Full Job decription not available  \n",
       "5                  Full Job decription not available  \n",
       "6  Business & Team overview:Founded in 1987, Huaw...  \n",
       "7  Business & Team overview:Founded in 1987, Huaw...  \n",
       "8  About the RoleFasten your helmet and climb on ...  \n",
       "9  Expert understanding and demonstrated skills o...  "
      ]
     },
     "execution_count": 31,
     "metadata": {},
     "output_type": "execute_result"
    }
   ],
   "source": [
    "\n",
    "#Making a job dataframe\n",
    "jobs = pd.DataFrame()\n",
    "\n",
    "jobs['Title'] = jobTitle\n",
    "jobs['Company'] = jobFirm\n",
    "jobs['Location'] = jobLocation\n",
    "jobs['Description'] = jobDesc\n",
    "\n",
    "jobs"
   ]
  },
  {
   "cell_type": "code",
   "execution_count": 32,
   "metadata": {},
   "outputs": [],
   "source": [
    "#Closing the driver\n",
    "driver.close()"
   ]
  },
  {
   "cell_type": "code",
   "execution_count": null,
   "metadata": {},
   "outputs": [],
   "source": []
  },
  {
   "cell_type": "raw",
   "metadata": {},
   "source": [
    "Q3: In this question you have to scrape data using the filters available on the \n",
    "webpage below are the:\n",
    "    > You have to use the location and salary filter.\n",
    "    > You have to scrape data for “Data Scientist” designation for first 10 job results.\n",
    "    > You have to scrape the job-title, job-location, company_name, experience_required.\n",
    "    > The location filter to be used is “Delhi/NCR”\n",
    "    > The salary filter to be used is “3-6” lakhs\n",
    "    \n",
    "The task will be done as shown in the below steps:\n",
    "    1. first get the webpage https://www.naukri.com/\n",
    "    2. Enter “Data Scientist” in “Skill,Designations,Companies” field .\n",
    "    3. Then click the search button.\n",
    "    4. Then apply the location filter and salary filter by checking the respective boxes.\n",
    "    5. Then scrape the data for the first 10 jobs results you get.\n",
    "    6. Finally create a dataframe of the scraped data.\n",
    "    \n",
    "Note- All of the above steps have to be done in code. No step is to be done \n",
    "manually."
   ]
  },
  {
   "cell_type": "code",
   "execution_count": 33,
   "metadata": {},
   "outputs": [],
   "source": [
    "#lets first connect to the web driver\n",
    "driver = webdriver.Edge(\"msedgedriver.exe\")"
   ]
  },
  {
   "cell_type": "code",
   "execution_count": 34,
   "metadata": {},
   "outputs": [],
   "source": [
    "#Getting the website to driver\n",
    "driver.get('https://www.naukri.com/')"
   ]
  },
  {
   "cell_type": "code",
   "execution_count": 35,
   "metadata": {},
   "outputs": [],
   "source": [
    "#finding element for job search bar\n",
    "search_job = driver.find_element_by_id('qsb-keyword-sugg')\n",
    "search_job.clear()\n",
    "search_job.send_keys(\"Data Scientist\")\n",
    "search_loc = driver.find_element_by_xpath(\"//input[@id='qsb-location-sugg']\")\n",
    "search_loc.send_keys(\"Delhi/NCR\")\n",
    "search_loc = driver.find_element_by_xpath(\"//div[@class='search-btn']/button\")\n",
    "search_loc.click()"
   ]
  },
  {
   "cell_type": "code",
   "execution_count": 36,
   "metadata": {},
   "outputs": [],
   "source": [
    "#applying location filter to show job listings for Delhi/NCR\n",
    "time.sleep(2)\n",
    "driver.find_element_by_xpath('//*[@id=\"root\"]/div[3]/div[2]/section[1]/div[2]/div[2]/div[2]/div[1]/label/p').click()"
   ]
  },
  {
   "cell_type": "code",
   "execution_count": 37,
   "metadata": {},
   "outputs": [],
   "source": [
    "#applying location filter to show job listings for 3-6 lahks salary\n",
    "time.sleep(2)\n",
    "driver.find_element_by_xpath('//*[@id=\"root\"]/div[3]/div[2]/section[1]/div[2]/div[3]/div[2]/div[2]/label/p').click()"
   ]
  },
  {
   "cell_type": "code",
   "execution_count": 38,
   "metadata": {},
   "outputs": [
    {
     "data": {
      "text/plain": [
       "['Data Scientist / Data Analyst -Business Analyst',\n",
       " 'Business Analyst- Data Scientist',\n",
       " 'Data Scientist - High growth VC backed Influencer Marketplace',\n",
       " 'DATA Scientist – Gurgaon (Exp 3-6 years)',\n",
       " 'DATA Scientist – Gurgaon (Exp 3-6 years)',\n",
       " 'Data Scientist - Noida',\n",
       " 'Data Scientist',\n",
       " 'Data Scientist',\n",
       " 'Data Scientist',\n",
       " 'Senior Data Scientist II 5+ yrs II Gurgaon']"
      ]
     },
     "execution_count": 38,
     "metadata": {},
     "output_type": "execute_result"
    }
   ],
   "source": [
    "#Getting the first 10 job title\n",
    "Title = []\n",
    "\n",
    "for index in range(1,11):\n",
    "    title = driver.find_element_by_xpath(f'//*[@id=\"root\"]/div[3]/div[2]/section[2]/div[2]/article[{index}]/div[1]/div[1]/a')\n",
    "    Title.append(title.text)\n",
    "\n",
    "Title"
   ]
  },
  {
   "cell_type": "code",
   "execution_count": 39,
   "metadata": {},
   "outputs": [
    {
     "data": {
      "text/plain": [
       "['Inflexion Analytix Private Limited',\n",
       " 'Wipro',\n",
       " 'Ravgins International Pvt. Ltd.',\n",
       " 'CRESCENDO GLOBAL LEADERSHIP HIRING INDIA PRIVATE L IMITED',\n",
       " 'CRESCENDO GLOBAL LEADERSHIP HIRING INDIA PRIVATE L IMITED',\n",
       " 'Optum Global Solutions (India) Private Limited',\n",
       " 'Blitz Jobs',\n",
       " 'IBM India Pvt. Limited',\n",
       " 'Country Veggie',\n",
       " 'Zenatix Solutions Private Limited']"
      ]
     },
     "execution_count": 39,
     "metadata": {},
     "output_type": "execute_result"
    }
   ],
   "source": [
    "#Getting the first 10 hiring firms\n",
    "Company = []\n",
    "\n",
    "for index in range(1,11):\n",
    "    company = driver.find_element_by_xpath(f'//*[@id = \"root\"]/div[3]/div[2]/section[2]/div[2]/article[{index}]/div[1]/div[1]/div/a[1]')\n",
    "    Company.append(company.text)\n",
    "\n",
    "Company"
   ]
  },
  {
   "cell_type": "code",
   "execution_count": 40,
   "metadata": {},
   "outputs": [
    {
     "data": {
      "text/plain": [
       "['0-3', '2-5', '3-5', '3-6', '3-6', '3-5', '3-5', '4-9', '1-3', '5-10']"
      ]
     },
     "execution_count": 40,
     "metadata": {},
     "output_type": "execute_result"
    }
   ],
   "source": [
    "#Getting the first 10 Experience Required for the Job\n",
    "Experience = []\n",
    "\n",
    "for index in range(1,11):\n",
    "    exp = driver.find_element_by_xpath(f'//*[@id=\"root\"]/div[3]/div[2]/section[2]/div[2]/article[{index}]/div[1]/div/ul/li[1]/span')\n",
    "    Experience.append(exp.text.split()[0])\n",
    "Experience"
   ]
  },
  {
   "cell_type": "code",
   "execution_count": 41,
   "metadata": {},
   "outputs": [
    {
     "data": {
      "text/plain": [
       "['Mumbai, Hyderabad/Secunderabad, Pune, Gurgaon/Gurugram, Chennai, Bangalore/Bengaluru',\n",
       " 'Noida, Gurgaon/Gurugram',\n",
       " 'Bangalore/Bengaluru, Delhi / NCR, Mumbai (All Areas)',\n",
       " 'Gurgaon/Gurugram, Delhi / NCR',\n",
       " 'Gurgaon/Gurugram, Delhi / NCR',\n",
       " 'Noida',\n",
       " 'Noida',\n",
       " 'Noida, Hyderabad/Secunderabad, Bangalore/Bengaluru',\n",
       " 'Bharuch, Jaipur, Bhopal, Mumbai, Jhansi, Nagpur, Ghaziabad, Jaunpur, Kanpur, New Delhi, Lucknow, Agra, Gurgaon/Gurugram, Rajkot, Bangalore/Bengaluru',\n",
       " 'Gurgaon/Gurugram']"
      ]
     },
     "execution_count": 41,
     "metadata": {},
     "output_type": "execute_result"
    }
   ],
   "source": [
    "#Getting the first 10 job location\n",
    "Location = []\n",
    "\n",
    "for index in range(1,11):\n",
    "    location = driver.find_element_by_xpath(f'//*[@id=\"root\"]/div[3]/div[2]/section[2]/div[2]/article[{index}]/div[1]/div[1]/ul/li[3]/span')\n",
    "    Location.append(location.text)\n",
    "Location"
   ]
  },
  {
   "cell_type": "code",
   "execution_count": 42,
   "metadata": {},
   "outputs": [
    {
     "data": {
      "text/html": [
       "<div>\n",
       "<style scoped>\n",
       "    .dataframe tbody tr th:only-of-type {\n",
       "        vertical-align: middle;\n",
       "    }\n",
       "\n",
       "    .dataframe tbody tr th {\n",
       "        vertical-align: top;\n",
       "    }\n",
       "\n",
       "    .dataframe thead th {\n",
       "        text-align: right;\n",
       "    }\n",
       "</style>\n",
       "<table border=\"1\" class=\"dataframe\">\n",
       "  <thead>\n",
       "    <tr style=\"text-align: right;\">\n",
       "      <th></th>\n",
       "      <th>Title</th>\n",
       "      <th>Location</th>\n",
       "      <th>Company Name</th>\n",
       "      <th>Experience in Years</th>\n",
       "    </tr>\n",
       "  </thead>\n",
       "  <tbody>\n",
       "    <tr>\n",
       "      <th>0</th>\n",
       "      <td>Data Scientist / Data Analyst -Business Analyst</td>\n",
       "      <td>Mumbai, Hyderabad/Secunderabad, Pune, Gurgaon/...</td>\n",
       "      <td>Inflexion Analytix Private Limited</td>\n",
       "      <td>0-3</td>\n",
       "    </tr>\n",
       "    <tr>\n",
       "      <th>1</th>\n",
       "      <td>Business Analyst- Data Scientist</td>\n",
       "      <td>Noida, Gurgaon/Gurugram</td>\n",
       "      <td>Wipro</td>\n",
       "      <td>2-5</td>\n",
       "    </tr>\n",
       "    <tr>\n",
       "      <th>2</th>\n",
       "      <td>Data Scientist - High growth VC backed Influen...</td>\n",
       "      <td>Bangalore/Bengaluru, Delhi / NCR, Mumbai (All ...</td>\n",
       "      <td>Ravgins International Pvt. Ltd.</td>\n",
       "      <td>3-5</td>\n",
       "    </tr>\n",
       "    <tr>\n",
       "      <th>3</th>\n",
       "      <td>DATA Scientist – Gurgaon (Exp 3-6 years)</td>\n",
       "      <td>Gurgaon/Gurugram, Delhi / NCR</td>\n",
       "      <td>CRESCENDO GLOBAL LEADERSHIP HIRING INDIA PRIVA...</td>\n",
       "      <td>3-6</td>\n",
       "    </tr>\n",
       "    <tr>\n",
       "      <th>4</th>\n",
       "      <td>DATA Scientist – Gurgaon (Exp 3-6 years)</td>\n",
       "      <td>Gurgaon/Gurugram, Delhi / NCR</td>\n",
       "      <td>CRESCENDO GLOBAL LEADERSHIP HIRING INDIA PRIVA...</td>\n",
       "      <td>3-6</td>\n",
       "    </tr>\n",
       "    <tr>\n",
       "      <th>5</th>\n",
       "      <td>Data Scientist - Noida</td>\n",
       "      <td>Noida</td>\n",
       "      <td>Optum Global Solutions (India) Private Limited</td>\n",
       "      <td>3-5</td>\n",
       "    </tr>\n",
       "    <tr>\n",
       "      <th>6</th>\n",
       "      <td>Data Scientist</td>\n",
       "      <td>Noida</td>\n",
       "      <td>Blitz Jobs</td>\n",
       "      <td>3-5</td>\n",
       "    </tr>\n",
       "    <tr>\n",
       "      <th>7</th>\n",
       "      <td>Data Scientist</td>\n",
       "      <td>Noida, Hyderabad/Secunderabad, Bangalore/Benga...</td>\n",
       "      <td>IBM India Pvt. Limited</td>\n",
       "      <td>4-9</td>\n",
       "    </tr>\n",
       "    <tr>\n",
       "      <th>8</th>\n",
       "      <td>Data Scientist</td>\n",
       "      <td>Bharuch, Jaipur, Bhopal, Mumbai, Jhansi, Nagpu...</td>\n",
       "      <td>Country Veggie</td>\n",
       "      <td>1-3</td>\n",
       "    </tr>\n",
       "    <tr>\n",
       "      <th>9</th>\n",
       "      <td>Senior Data Scientist II 5+ yrs II Gurgaon</td>\n",
       "      <td>Gurgaon/Gurugram</td>\n",
       "      <td>Zenatix Solutions Private Limited</td>\n",
       "      <td>5-10</td>\n",
       "    </tr>\n",
       "  </tbody>\n",
       "</table>\n",
       "</div>"
      ],
      "text/plain": [
       "                                               Title  \\\n",
       "0    Data Scientist / Data Analyst -Business Analyst   \n",
       "1                   Business Analyst- Data Scientist   \n",
       "2  Data Scientist - High growth VC backed Influen...   \n",
       "3           DATA Scientist – Gurgaon (Exp 3-6 years)   \n",
       "4           DATA Scientist – Gurgaon (Exp 3-6 years)   \n",
       "5                             Data Scientist - Noida   \n",
       "6                                     Data Scientist   \n",
       "7                                     Data Scientist   \n",
       "8                                     Data Scientist   \n",
       "9         Senior Data Scientist II 5+ yrs II Gurgaon   \n",
       "\n",
       "                                            Location  \\\n",
       "0  Mumbai, Hyderabad/Secunderabad, Pune, Gurgaon/...   \n",
       "1                            Noida, Gurgaon/Gurugram   \n",
       "2  Bangalore/Bengaluru, Delhi / NCR, Mumbai (All ...   \n",
       "3                      Gurgaon/Gurugram, Delhi / NCR   \n",
       "4                      Gurgaon/Gurugram, Delhi / NCR   \n",
       "5                                              Noida   \n",
       "6                                              Noida   \n",
       "7  Noida, Hyderabad/Secunderabad, Bangalore/Benga...   \n",
       "8  Bharuch, Jaipur, Bhopal, Mumbai, Jhansi, Nagpu...   \n",
       "9                                   Gurgaon/Gurugram   \n",
       "\n",
       "                                        Company Name Experience in Years  \n",
       "0                 Inflexion Analytix Private Limited                 0-3  \n",
       "1                                              Wipro                 2-5  \n",
       "2                    Ravgins International Pvt. Ltd.                 3-5  \n",
       "3  CRESCENDO GLOBAL LEADERSHIP HIRING INDIA PRIVA...                 3-6  \n",
       "4  CRESCENDO GLOBAL LEADERSHIP HIRING INDIA PRIVA...                 3-6  \n",
       "5     Optum Global Solutions (India) Private Limited                 3-5  \n",
       "6                                         Blitz Jobs                 3-5  \n",
       "7                             IBM India Pvt. Limited                 4-9  \n",
       "8                                     Country Veggie                 1-3  \n",
       "9                  Zenatix Solutions Private Limited                5-10  "
      ]
     },
     "execution_count": 42,
     "metadata": {},
     "output_type": "execute_result"
    }
   ],
   "source": [
    "#Making a job dataframe\n",
    "\n",
    "DataJobDelhiNCR = pd.DataFrame()\n",
    "\n",
    "DataJobDelhiNCR['Title'] = Title\n",
    "DataJobDelhiNCR['Location'] = Location\n",
    "DataJobDelhiNCR['Company Name'] = Company\n",
    "DataJobDelhiNCR['Experience in Years'] = Experience\n",
    "\n",
    "DataJobDelhiNCR"
   ]
  },
  {
   "cell_type": "code",
   "execution_count": 43,
   "metadata": {},
   "outputs": [],
   "source": [
    "driver.close()"
   ]
  },
  {
   "cell_type": "code",
   "execution_count": null,
   "metadata": {},
   "outputs": [],
   "source": []
  },
  {
   "cell_type": "raw",
   "metadata": {},
   "source": [
    "Q4: Write a python program to scrape data for first 10 job results for Data scientist \n",
    "Designation in Noida location. You have to scrape company_name, No. of days \n",
    "ago when job was posted, Rating of the company.\n",
    "\n",
    "This task will be done in following steps:\n",
    "    1. first get the webpage https://www.glassdoor.co.in/index.htm\n",
    "    2. Enter “Data Scientist” in “Job Title,Keyword,Company” field and enter “Noida” in “location” field.\n",
    "    3. Then click the search button.\n",
    "    4. Then scrape the data for the first 10 jobs results you get in the above shown page.\n",
    "    5. Finally create a dataframe of the scraped data.\n",
    "    \n",
    "Note- All of the above steps have to be done in code. No step is to be done \n",
    "manually."
   ]
  },
  {
   "cell_type": "code",
   "execution_count": 53,
   "metadata": {},
   "outputs": [],
   "source": [
    "\n",
    "#Specifying the job search parameters\n",
    "jobName = 'Data Scientist'\n",
    "jobSearchLocation = 'Noida'"
   ]
  },
  {
   "cell_type": "code",
   "execution_count": 54,
   "metadata": {},
   "outputs": [],
   "source": [
    "#Making a Selenium Driver object for Google and opening the Google Homepage\n",
    "driverGoogle = webdriver.Edge(\"msedgedriver.exe\")\n",
    "driverGoogle.get(f'https://www.google.com/')"
   ]
  },
  {
   "cell_type": "code",
   "execution_count": 55,
   "metadata": {},
   "outputs": [],
   "source": [
    "#Populating the Google Search Bar with our search term and clicking the search button\n",
    "driverGoogle.find_element_by_xpath('/html/body/div[1]/div[3]/form/div[1]/div[1]/div[1]/div/div[2]/input').send_keys(f'glassdoor {jobName} {jobSearchLocation}')\n",
    "driverGoogle.find_element_by_xpath('/html/body/div[1]/div[3]/form/div[1]/div[1]/div[3]/center/input[1]').click()"
   ]
  },
  {
   "cell_type": "code",
   "execution_count": 56,
   "metadata": {},
   "outputs": [],
   "source": [
    "#Getting the link to Glassdoor from Google Search Results\n",
    "#glassdoorLink = \n",
    "driverGoogle.find_element_by_xpath('//*[@id=\"rso\"]/div[1]/div/div/div[1]/a/h3').click()"
   ]
  },
  {
   "cell_type": "code",
   "execution_count": 57,
   "metadata": {},
   "outputs": [
    {
     "data": {
      "text/plain": [
       "['4.4', 'Adobe', 'Research Scientist - Computer Vision', 'Noida', '28d']"
      ]
     },
     "execution_count": 57,
     "metadata": {},
     "output_type": "execute_result"
    }
   ],
   "source": [
    "#Getting the first job listing fomr Glassdoor and inspecting it structure so that we can use for loop later to \n",
    "#scrape all the other job listings\n",
    "jobListTile = driverGoogle.find_element_by_xpath('//*[@id=\"MainCol\"]/div[1]/ul/li[1]')\n",
    "\n",
    "s = jobListTile.text.split('\\n') #//*[@id=\"MainCol\"]/div[1]/ul/li[2]\n",
    "\n",
    "s"
   ]
  },
  {
   "cell_type": "code",
   "execution_count": 58,
   "metadata": {},
   "outputs": [],
   "source": [
    "#Making empty list for firm, ratings and no. of days ago the job was posted\n",
    "#Note: The listings with missing Company Ratings are skipped\n",
    "rating = []\n",
    "firm = []\n",
    "jobPosted = []\n",
    "      \n",
    "for i in range(1,20):\n",
    "    jobListTile = driverGoogle.find_element_by_xpath(f'//*[@id=\"MainCol\"]/div[1]/ul/li[{i}]').text.split('\\n')\n",
    "    if len(jobListTile[0]) > 4:\n",
    "        continue\n",
    "    else:\n",
    "        rating.append(jobListTile[0])\n",
    "        firm.append(jobListTile[1])\n",
    "        jobPosted.append(jobListTile[-2])"
   ]
  },
  {
   "cell_type": "code",
   "execution_count": 59,
   "metadata": {},
   "outputs": [],
   "source": [
    "#Keeping only the first 10 job details\n",
    "rating = rating[0:10]\n",
    "firm = firm[0:10]\n",
    "jobPosted = jobPosted[0:10]"
   ]
  },
  {
   "cell_type": "code",
   "execution_count": 60,
   "metadata": {},
   "outputs": [
    {
     "data": {
      "text/html": [
       "<div>\n",
       "<style scoped>\n",
       "    .dataframe tbody tr th:only-of-type {\n",
       "        vertical-align: middle;\n",
       "    }\n",
       "\n",
       "    .dataframe tbody tr th {\n",
       "        vertical-align: top;\n",
       "    }\n",
       "\n",
       "    .dataframe thead th {\n",
       "        text-align: right;\n",
       "    }\n",
       "</style>\n",
       "<table border=\"1\" class=\"dataframe\">\n",
       "  <thead>\n",
       "    <tr style=\"text-align: right;\">\n",
       "      <th></th>\n",
       "      <th>Firm Name</th>\n",
       "      <th>Rating</th>\n",
       "      <th>Posted (hours/days ago)</th>\n",
       "    </tr>\n",
       "  </thead>\n",
       "  <tbody>\n",
       "    <tr>\n",
       "      <th>0</th>\n",
       "      <td>Adobe</td>\n",
       "      <td>4.4</td>\n",
       "      <td>Noida</td>\n",
       "    </tr>\n",
       "    <tr>\n",
       "      <th>1</th>\n",
       "      <td>Ericsson</td>\n",
       "      <td>4.1</td>\n",
       "      <td>3d</td>\n",
       "    </tr>\n",
       "    <tr>\n",
       "      <th>2</th>\n",
       "      <td>CRMNEXT</td>\n",
       "      <td>3.6</td>\n",
       "      <td>Noida</td>\n",
       "    </tr>\n",
       "    <tr>\n",
       "      <th>3</th>\n",
       "      <td>NatWest Group</td>\n",
       "      <td>3.9</td>\n",
       "      <td>24h</td>\n",
       "    </tr>\n",
       "    <tr>\n",
       "      <th>4</th>\n",
       "      <td>CRMNEXT</td>\n",
       "      <td>3.6</td>\n",
       "      <td>Noida</td>\n",
       "    </tr>\n",
       "    <tr>\n",
       "      <th>5</th>\n",
       "      <td>WishFin</td>\n",
       "      <td>3.8</td>\n",
       "      <td>Noida</td>\n",
       "    </tr>\n",
       "    <tr>\n",
       "      <th>6</th>\n",
       "      <td>Biz2Credit Inc</td>\n",
       "      <td>3.8</td>\n",
       "      <td>30d+</td>\n",
       "    </tr>\n",
       "    <tr>\n",
       "      <th>7</th>\n",
       "      <td>Techlive</td>\n",
       "      <td>5.0</td>\n",
       "      <td>Noida</td>\n",
       "    </tr>\n",
       "    <tr>\n",
       "      <th>8</th>\n",
       "      <td>dunnhumby</td>\n",
       "      <td>4.1</td>\n",
       "      <td>1d</td>\n",
       "    </tr>\n",
       "    <tr>\n",
       "      <th>9</th>\n",
       "      <td>Adobe</td>\n",
       "      <td>4.4</td>\n",
       "      <td>2d</td>\n",
       "    </tr>\n",
       "  </tbody>\n",
       "</table>\n",
       "</div>"
      ],
      "text/plain": [
       "        Firm Name Rating Posted (hours/days ago)\n",
       "0           Adobe    4.4                   Noida\n",
       "1        Ericsson    4.1                      3d\n",
       "2         CRMNEXT    3.6                   Noida\n",
       "3   NatWest Group    3.9                     24h\n",
       "4         CRMNEXT    3.6                   Noida\n",
       "5         WishFin    3.8                   Noida\n",
       "6  Biz2Credit Inc    3.8                    30d+\n",
       "7        Techlive    5.0                   Noida\n",
       "8       dunnhumby    4.1                      1d\n",
       "9           Adobe    4.4                      2d"
      ]
     },
     "execution_count": 60,
     "metadata": {},
     "output_type": "execute_result"
    }
   ],
   "source": [
    "#making a dataframe with al job details and displaying them\n",
    "glassdoorDSNoida = pd.DataFrame()\n",
    "\n",
    "glassdoorDSNoida['Firm Name'] = firm\n",
    "glassdoorDSNoida['Rating'] = rating\n",
    "glassdoorDSNoida['Posted (hours/days ago)'] = jobPosted\n",
    "\n",
    "glassdoorDSNoida"
   ]
  },
  {
   "cell_type": "code",
   "execution_count": 61,
   "metadata": {},
   "outputs": [],
   "source": [
    "driverGoogle.close()"
   ]
  },
  {
   "cell_type": "code",
   "execution_count": null,
   "metadata": {},
   "outputs": [],
   "source": []
  },
  {
   "cell_type": "raw",
   "metadata": {},
   "source": [
    "Q5: Write a python program to scrape the salary data for Data Scientist designation \n",
    "in Noida location.\n",
    "You have to scrape Company name, Number of salaries, Average salary, Min\n",
    "salary, Max Salary.\n",
    "\n",
    "The above task will be, done as shown in the below steps:\n",
    "    1. first get the webpage https://www.glassdoor.co.in/Salaries/index.htm\n",
    "    2. Enter “Data Scientist” in Job title field and “Noida” in location field.\n",
    "    3. Click the search button.\n",
    "    4. After that you will land on the webpage from there You have to scrape whole data from this webpage\n",
    "    5. Scrape data for first 10 companies. Scrape the min salary, max salary, company name, Average salary and rating of the company.\n",
    "    6.Store the data in a dataframe.\n",
    "\n",
    "Note that all of the above steps have to be done by coding only and not manually."
   ]
  },
  {
   "cell_type": "code",
   "execution_count": 62,
   "metadata": {},
   "outputs": [],
   "source": [
    "#lets first connect to the web driver\n",
    "driverGlassdoor = webdriver.Edge(\"msedgedriver.exe\")\n",
    "driverGlassdoor.get('https://www.glassdoor.co.in/Salaries/index.htm')"
   ]
  },
  {
   "cell_type": "code",
   "execution_count": 63,
   "metadata": {},
   "outputs": [],
   "source": [
    "#filling the job title bar\n",
    "driverGlassdoor.find_element_by_xpath('//*[@id=\"KeywordSearch\"]').send_keys('Data Scientist')"
   ]
  },
  {
   "cell_type": "code",
   "execution_count": 64,
   "metadata": {},
   "outputs": [],
   "source": [
    "#clearing any existing entry and filling the job location bar\n",
    "driverGlassdoor.find_element_by_xpath('//*[@id=\"LocationSearch\"]').clear()\n",
    "driverGlassdoor.find_element_by_xpath('//*[@id=\"LocationSearch\"]').send_keys('Noida')"
   ]
  },
  {
   "cell_type": "code",
   "execution_count": 65,
   "metadata": {},
   "outputs": [],
   "source": [
    "#Clicking the search button\n",
    "driverGlassdoor.find_element_by_xpath('//*[@id=\"HeroSearchButton\"]').click()"
   ]
  },
  {
   "cell_type": "code",
   "execution_count": 66,
   "metadata": {},
   "outputs": [],
   "source": [
    "#Getting th first listing from Glassdoor and inspecting it structure so that we can use for loop later to \n",
    "#scrape all the other job listings\n",
    "time.sleep(2) #Will throw error if executed before the page loads. This line ensures we wait for 2 seconds\n",
    "s = driverGlassdoor.find_element_by_css_selector('#SalariesByCompany > div.module.mb-0 > div:nth-child(4) > div')"
   ]
  },
  {
   "cell_type": "code",
   "execution_count": 67,
   "metadata": {},
   "outputs": [
    {
     "data": {
      "text/plain": [
       "['Data Scientist',\n",
       " 'Tata Consultancy Services',\n",
       " '17 salaries',\n",
       " 'See 131 salaries from all locations',\n",
       " '₹ 6,14,306',\n",
       " '/yr',\n",
       " '₹343K',\n",
       " '₹1,250K']"
      ]
     },
     "execution_count": 67,
     "metadata": {},
     "output_type": "execute_result"
    }
   ],
   "source": [
    "#studying the structure of the first listing\n",
    "s.text.split('\\n')"
   ]
  },
  {
   "cell_type": "code",
   "execution_count": 68,
   "metadata": {},
   "outputs": [
    {
     "name": "stdout",
     "output_type": "stream",
     "text": [
      "interation 1\n",
      "interation 2\n",
      "interation 3\n",
      "interation 4\n",
      "interation 5\n",
      "interation 6\n",
      "interation 7\n",
      "interation 8\n",
      "interation 9\n",
      "interation 10\n",
      "interation 11\n",
      "interation 12\n",
      "interation 13\n",
      "interation 14\n",
      "interation 15\n",
      "interation 16\n"
     ]
    }
   ],
   "source": [
    "#Using for loop to get all salary related information from all listing \n",
    "\n",
    "firm = []\n",
    "salaryNum = []\n",
    "avgSalary = []\n",
    "minSalary = []\n",
    "maxSalary = []\n",
    "\n",
    "for index in range(4, 20): #listing states from 4th child. So the loop starts from 4\n",
    "    jobListTile = driverGlassdoor.find_element_by_css_selector(f'#SalariesByCompany > div.module.mb-0 > div:nth-child({index}) > div').text.split('\\n')\n",
    "    try:\n",
    "        print(f'interation {index-3}')\n",
    "        if len(jobListTile[2])> 11:\n",
    "            pass\n",
    "        else:\n",
    "            firm.append(jobListTile[1])\n",
    "            salaryNum.append(jobListTile[2])\n",
    "            avgSalary.append(jobListTile[4])\n",
    "            minSalary.append(jobListTile[-2])\n",
    "            maxSalary.append(jobListTile[-1])\n",
    "    except IndexError:\n",
    "        continue"
   ]
  },
  {
   "cell_type": "code",
   "execution_count": 69,
   "metadata": {},
   "outputs": [
    {
     "data": {
      "text/html": [
       "<div>\n",
       "<style scoped>\n",
       "    .dataframe tbody tr th:only-of-type {\n",
       "        vertical-align: middle;\n",
       "    }\n",
       "\n",
       "    .dataframe tbody tr th {\n",
       "        vertical-align: top;\n",
       "    }\n",
       "\n",
       "    .dataframe thead th {\n",
       "        text-align: right;\n",
       "    }\n",
       "</style>\n",
       "<table border=\"1\" class=\"dataframe\">\n",
       "  <thead>\n",
       "    <tr style=\"text-align: right;\">\n",
       "      <th></th>\n",
       "      <th>Company</th>\n",
       "      <th>No. of Salary</th>\n",
       "      <th>Average Salary</th>\n",
       "      <th>Minimum Salary</th>\n",
       "      <th>Maximum Salary</th>\n",
       "    </tr>\n",
       "  </thead>\n",
       "  <tbody>\n",
       "    <tr>\n",
       "      <th>0</th>\n",
       "      <td>Tata Consultancy Services</td>\n",
       "      <td>17 salaries</td>\n",
       "      <td>₹ 6,14,306</td>\n",
       "      <td>₹343K</td>\n",
       "      <td>₹1,250K</td>\n",
       "    </tr>\n",
       "    <tr>\n",
       "      <th>1</th>\n",
       "      <td>IBM</td>\n",
       "      <td>15 salaries</td>\n",
       "      <td>₹ 9,00,000</td>\n",
       "      <td>₹586K</td>\n",
       "      <td>₹2,730K</td>\n",
       "    </tr>\n",
       "    <tr>\n",
       "      <th>2</th>\n",
       "      <td>Accenture</td>\n",
       "      <td>14 salaries</td>\n",
       "      <td>₹ 11,46,533</td>\n",
       "      <td>₹577K</td>\n",
       "      <td>₹2,213K</td>\n",
       "    </tr>\n",
       "    <tr>\n",
       "      <th>3</th>\n",
       "      <td>Ericsson-Worldwide</td>\n",
       "      <td>14 salaries</td>\n",
       "      <td>₹ 7,38,057</td>\n",
       "      <td>₹355K</td>\n",
       "      <td>₹1,613K</td>\n",
       "    </tr>\n",
       "    <tr>\n",
       "      <th>4</th>\n",
       "      <td>Delhivery</td>\n",
       "      <td>14 salaries</td>\n",
       "      <td>₹ 12,39,781</td>\n",
       "      <td>₹450K</td>\n",
       "      <td>₹11,622K</td>\n",
       "    </tr>\n",
       "    <tr>\n",
       "      <th>5</th>\n",
       "      <td>UnitedHealth Group</td>\n",
       "      <td>11 salaries</td>\n",
       "      <td>₹ 13,36,142</td>\n",
       "      <td>₹1,069K</td>\n",
       "      <td>₹1,520K</td>\n",
       "    </tr>\n",
       "    <tr>\n",
       "      <th>6</th>\n",
       "      <td>Valiance Solutions</td>\n",
       "      <td>9 salaries</td>\n",
       "      <td>₹ 8,15,192</td>\n",
       "      <td>₹502K</td>\n",
       "      <td>₹1,465K</td>\n",
       "    </tr>\n",
       "    <tr>\n",
       "      <th>7</th>\n",
       "      <td>EXL Service</td>\n",
       "      <td>8 salaries</td>\n",
       "      <td>₹ 11,44,243</td>\n",
       "      <td>₹575K</td>\n",
       "      <td>₹1,520K</td>\n",
       "    </tr>\n",
       "    <tr>\n",
       "      <th>8</th>\n",
       "      <td>Innovaccer</td>\n",
       "      <td>8 salaries</td>\n",
       "      <td>₹ 12,07,110</td>\n",
       "      <td>₹620K</td>\n",
       "      <td>₹1,695K</td>\n",
       "    </tr>\n",
       "    <tr>\n",
       "      <th>9</th>\n",
       "      <td>Cognizant Technology Solutions</td>\n",
       "      <td>6 salaries</td>\n",
       "      <td>₹ 10,07,410</td>\n",
       "      <td>₹792K</td>\n",
       "      <td>₹1,263K</td>\n",
       "    </tr>\n",
       "  </tbody>\n",
       "</table>\n",
       "</div>"
      ],
      "text/plain": [
       "                          Company No. of Salary Average Salary Minimum Salary  \\\n",
       "0       Tata Consultancy Services   17 salaries     ₹ 6,14,306          ₹343K   \n",
       "1                             IBM   15 salaries     ₹ 9,00,000          ₹586K   \n",
       "2                       Accenture   14 salaries    ₹ 11,46,533          ₹577K   \n",
       "3              Ericsson-Worldwide   14 salaries     ₹ 7,38,057          ₹355K   \n",
       "4                       Delhivery   14 salaries    ₹ 12,39,781          ₹450K   \n",
       "5              UnitedHealth Group   11 salaries    ₹ 13,36,142        ₹1,069K   \n",
       "6              Valiance Solutions    9 salaries     ₹ 8,15,192          ₹502K   \n",
       "7                     EXL Service    8 salaries    ₹ 11,44,243          ₹575K   \n",
       "8                      Innovaccer    8 salaries    ₹ 12,07,110          ₹620K   \n",
       "9  Cognizant Technology Solutions    6 salaries    ₹ 10,07,410          ₹792K   \n",
       "\n",
       "  Maximum Salary  \n",
       "0        ₹1,250K  \n",
       "1        ₹2,730K  \n",
       "2        ₹2,213K  \n",
       "3        ₹1,613K  \n",
       "4       ₹11,622K  \n",
       "5        ₹1,520K  \n",
       "6        ₹1,465K  \n",
       "7        ₹1,520K  \n",
       "8        ₹1,695K  \n",
       "9        ₹1,263K  "
      ]
     },
     "execution_count": 69,
     "metadata": {},
     "output_type": "execute_result"
    }
   ],
   "source": [
    "#Making a dataframe of the scraped data and keeping only the first 10 salary data\n",
    "DSNoidaSalaryData = pd.DataFrame()\n",
    "\n",
    "DSNoidaSalaryData['Company'] = firm[0:10]\n",
    "DSNoidaSalaryData['No. of Salary'] = salaryNum[0:10]\n",
    "DSNoidaSalaryData['Average Salary'] = avgSalary[0:10]\n",
    "DSNoidaSalaryData['Minimum Salary'] = minSalary[0:10]\n",
    "DSNoidaSalaryData['Maximum Salary'] = maxSalary[0:10]\n",
    "\n",
    "DSNoidaSalaryData"
   ]
  },
  {
   "cell_type": "code",
   "execution_count": 70,
   "metadata": {},
   "outputs": [],
   "source": [
    "driverGlassdoor.close()"
   ]
  },
  {
   "cell_type": "code",
   "execution_count": null,
   "metadata": {},
   "outputs": [],
   "source": []
  },
  {
   "cell_type": "raw",
   "metadata": {},
   "source": [
    "Q6 : Scrape data of first 100 sunglasses listings on flipkart.com. You have to \n",
    "scrape four attributes:\n",
    "1. Brand\n",
    "2. Product Description\n",
    "3. Price\n",
    "4. Discount %\n",
    "\n",
    "To scrape the data you have to go through following steps:\n",
    "    1. Go to flipkart webpage by url https://www.flipkart.com/\n",
    "    2. Enter “sunglasses” in the search field where “search for products, brands and more” is written and click the search icon\n",
    "    3. after that you will reach to a webpage having a lot of sunglasses. From this page you can scrap the required data as usual.\n",
    "    4. after scraping data from the first page, go to the “Next” Button at the bottom of the page , then click on it\n",
    "    5. Now scrape data from this page as usual\n",
    "    6. repeat this until you get data for 100 sunglasses.\n",
    "    \n",
    "Note that all of the above steps have to be done by coding only and not manually."
   ]
  },
  {
   "cell_type": "code",
   "execution_count": 71,
   "metadata": {},
   "outputs": [],
   "source": [
    "driverFlipkart = webdriver.Edge(\"msedgedriver.exe\")\n",
    "driverFlipkart.get('https://www.flipkart.com')"
   ]
  },
  {
   "cell_type": "code",
   "execution_count": 72,
   "metadata": {},
   "outputs": [],
   "source": [
    "#Filling the search bar and clicking search\n",
    "searchTerm = 'sunglasses'\n",
    "\n",
    "driverFlipkart.find_element_by_xpath('/html/body/div[2]/div/div/button').click() #Dismissing flipkart login/offer pop-up\n",
    "driverFlipkart.find_element_by_xpath('//*[@id=\"container\"]/div/div[1]/div[1]/div[2]/div[2]/form/div/div/input').send_keys(searchTerm)\n",
    "driverFlipkart.find_element_by_xpath('//*[@id=\"container\"]/div/div[1]/div[1]/div[2]/div[2]/form/div/button').click()"
   ]
  },
  {
   "cell_type": "code",
   "execution_count": 73,
   "metadata": {},
   "outputs": [],
   "source": [
    "#Taking the first element and inspecting the structure to see what combination of commands produces the desired output\n",
    "#Then we will use these combination \n",
    "time.sleep(2)\n",
    "listings = driverFlipkart.find_elements_by_class_name('_2B099V')"
   ]
  },
  {
   "cell_type": "code",
   "execution_count": 74,
   "metadata": {},
   "outputs": [
    {
     "data": {
      "text/plain": [
       "['Fastrack',\n",
       " 'UV Protection Rectangular Sunglasses (Free Size)',\n",
       " '₹570₹79928% off',\n",
       " 'Or Pay ₹541 + ',\n",
       " ' 29',\n",
       " 'Buy 2 items, save extra 5%']"
      ]
     },
     "execution_count": 74,
     "metadata": {},
     "output_type": "execute_result"
    }
   ],
   "source": [
    "a = listings[2].text.split('\\n')\n",
    "a"
   ]
  },
  {
   "cell_type": "code",
   "execution_count": 75,
   "metadata": {},
   "outputs": [
    {
     "data": {
      "text/plain": [
       "'Fastrack'"
      ]
     },
     "execution_count": 75,
     "metadata": {},
     "output_type": "execute_result"
    }
   ],
   "source": [
    "a[0]"
   ]
  },
  {
   "cell_type": "code",
   "execution_count": 76,
   "metadata": {},
   "outputs": [
    {
     "data": {
      "text/plain": [
       "'UV Protection Rectangular Sunglasses (Free Size)'"
      ]
     },
     "execution_count": 76,
     "metadata": {},
     "output_type": "execute_result"
    }
   ],
   "source": [
    "a[1]"
   ]
  },
  {
   "cell_type": "code",
   "execution_count": 77,
   "metadata": {},
   "outputs": [
    {
     "data": {
      "text/plain": [
       "'570'"
      ]
     },
     "execution_count": 77,
     "metadata": {},
     "output_type": "execute_result"
    }
   ],
   "source": [
    "a[2].split('₹')[1]"
   ]
  },
  {
   "cell_type": "code",
   "execution_count": 78,
   "metadata": {},
   "outputs": [
    {
     "data": {
      "text/plain": [
       "'28'"
      ]
     },
     "execution_count": 78,
     "metadata": {},
     "output_type": "execute_result"
    }
   ],
   "source": [
    "a[2].split('₹')[2].split()[-2][-3:-1]"
   ]
  },
  {
   "cell_type": "code",
   "execution_count": 79,
   "metadata": {},
   "outputs": [],
   "source": [
    "def sunglassScrapper():\n",
    "    '''This function scrapes all the listings in Flipkarts page and then goes to the next page by clicking the Next button'''\n",
    "    brand = []\n",
    "    proDesc = []\n",
    "    price = []\n",
    "    discount = []\n",
    "    sunglassListing = driverFlipkart.find_elements_by_class_name('_2B099V')\n",
    "    for index in range(len(sunglassListing)):\n",
    "        sunglassInfo = sunglassListing[index].text.split('\\n')\n",
    "        brand.append(sunglassInfo[0])\n",
    "        proDesc.append(sunglassInfo[1])\n",
    "        price.append(sunglassInfo[2].split('₹')[1])\n",
    "        discount.append(sunglassInfo[2].split('₹')[2].split()[-2][-3:-1])\n",
    "    \n",
    "    #Clicking the next button and waiting for 2 seconds\n",
    "    try:\n",
    "        #This block is for page 2 and subsiquent pages where there is 'Previous' and 'Next' buttons both of which\n",
    "        #have the class '_1LKTO3'\n",
    "        driverFlipkart.find_elements_by_class_name('_1LKTO3')[1].click()\n",
    "    except:\n",
    "        #This exception block is for the first page only where there is only 'Next' button\n",
    "        driverFlipkart.find_element_by_class_name('_1LKTO3').click()\n",
    "        \n",
    "    time.sleep(2)\n",
    "        \n",
    "    return brand, proDesc, price, discount"
   ]
  },
  {
   "cell_type": "code",
   "execution_count": 80,
   "metadata": {},
   "outputs": [
    {
     "name": "stdout",
     "output_type": "stream",
     "text": [
      "Product Page 1 scrapped\n",
      "Product Page 2 scrapped\n",
      "Product Page 3 scrapped\n"
     ]
    }
   ],
   "source": [
    "#Using the function above in a for loop to scrap the data from first 3 pages\n",
    "\n",
    "time.sleep(2)\n",
    "sunglassBrand = []\n",
    "sunglassDesc = []\n",
    "sunglassPrice = []\n",
    "sunglassDiscount = []\n",
    "\n",
    "for index in range(0,3):\n",
    "    b, d, p, dis = sunglassScrapper()\n",
    "    sunglassBrand.extend(b)\n",
    "    sunglassDesc.extend(d)\n",
    "    sunglassPrice.extend(p)\n",
    "    sunglassDiscount.extend(dis)\n",
    "    print(f'Product Page {index + 1} scrapped')"
   ]
  },
  {
   "cell_type": "code",
   "execution_count": 81,
   "metadata": {},
   "outputs": [
    {
     "data": {
      "text/html": [
       "<div>\n",
       "<style scoped>\n",
       "    .dataframe tbody tr th:only-of-type {\n",
       "        vertical-align: middle;\n",
       "    }\n",
       "\n",
       "    .dataframe tbody tr th {\n",
       "        vertical-align: top;\n",
       "    }\n",
       "\n",
       "    .dataframe thead th {\n",
       "        text-align: right;\n",
       "    }\n",
       "</style>\n",
       "<table border=\"1\" class=\"dataframe\">\n",
       "  <thead>\n",
       "    <tr style=\"text-align: right;\">\n",
       "      <th></th>\n",
       "      <th>Brand</th>\n",
       "      <th>Description</th>\n",
       "      <th>Price</th>\n",
       "      <th>Discount %</th>\n",
       "    </tr>\n",
       "  </thead>\n",
       "  <tbody>\n",
       "    <tr>\n",
       "      <th>0</th>\n",
       "      <td>FDA COLLECTION</td>\n",
       "      <td>Gradient, Mirrored, UV Protection Round, Round...</td>\n",
       "      <td>169</td>\n",
       "      <td>87</td>\n",
       "    </tr>\n",
       "    <tr>\n",
       "      <th>1</th>\n",
       "      <td>ROYAL SON</td>\n",
       "      <td>UV Protection Retro Square Sunglasses (49)</td>\n",
       "      <td>664</td>\n",
       "      <td>66</td>\n",
       "    </tr>\n",
       "    <tr>\n",
       "      <th>2</th>\n",
       "      <td>Fastrack</td>\n",
       "      <td>UV Protection Rectangular Sunglasses (Free Size)</td>\n",
       "      <td>570</td>\n",
       "      <td>28</td>\n",
       "    </tr>\n",
       "    <tr>\n",
       "      <th>3</th>\n",
       "      <td>ROZZETTA CRAFT</td>\n",
       "      <td>UV Protection Retro Square Sunglasses (Free Size)</td>\n",
       "      <td>499</td>\n",
       "      <td>77</td>\n",
       "    </tr>\n",
       "    <tr>\n",
       "      <th>4</th>\n",
       "      <td>Fastrack</td>\n",
       "      <td>UV Protection Wayfarer Sunglasses (Free Size)</td>\n",
       "      <td>733</td>\n",
       "      <td>18</td>\n",
       "    </tr>\n",
       "    <tr>\n",
       "      <th>...</th>\n",
       "      <td>...</td>\n",
       "      <td>...</td>\n",
       "      <td>...</td>\n",
       "      <td>...</td>\n",
       "    </tr>\n",
       "    <tr>\n",
       "      <th>95</th>\n",
       "      <td>AISLIN</td>\n",
       "      <td>UV Protection, Gradient Oval Sunglasses (58)</td>\n",
       "      <td>525</td>\n",
       "      <td>65</td>\n",
       "    </tr>\n",
       "    <tr>\n",
       "      <th>96</th>\n",
       "      <td>AISLIN</td>\n",
       "      <td>UV Protection Oval Sunglasses (60)</td>\n",
       "      <td>764</td>\n",
       "      <td>69</td>\n",
       "    </tr>\n",
       "    <tr>\n",
       "      <th>97</th>\n",
       "      <td>Singco India</td>\n",
       "      <td>UV Protection Round Sunglasses (Free Size)</td>\n",
       "      <td>205</td>\n",
       "      <td>79</td>\n",
       "    </tr>\n",
       "    <tr>\n",
       "      <th>98</th>\n",
       "      <td>GANSTA</td>\n",
       "      <td>UV Protection, Night Vision, Riding Glasses Av...</td>\n",
       "      <td>292</td>\n",
       "      <td>85</td>\n",
       "    </tr>\n",
       "    <tr>\n",
       "      <th>99</th>\n",
       "      <td>NuVew</td>\n",
       "      <td>UV Protection, Mirrored Aviator, Wayfarer Sung...</td>\n",
       "      <td>377</td>\n",
       "      <td>67</td>\n",
       "    </tr>\n",
       "  </tbody>\n",
       "</table>\n",
       "<p>100 rows × 4 columns</p>\n",
       "</div>"
      ],
      "text/plain": [
       "             Brand                                        Description Price  \\\n",
       "0   FDA COLLECTION  Gradient, Mirrored, UV Protection Round, Round...   169   \n",
       "1        ROYAL SON         UV Protection Retro Square Sunglasses (49)   664   \n",
       "2         Fastrack   UV Protection Rectangular Sunglasses (Free Size)   570   \n",
       "3   ROZZETTA CRAFT  UV Protection Retro Square Sunglasses (Free Size)   499   \n",
       "4         Fastrack      UV Protection Wayfarer Sunglasses (Free Size)   733   \n",
       "..             ...                                                ...   ...   \n",
       "95          AISLIN       UV Protection, Gradient Oval Sunglasses (58)   525   \n",
       "96          AISLIN                 UV Protection Oval Sunglasses (60)   764   \n",
       "97    Singco India         UV Protection Round Sunglasses (Free Size)   205   \n",
       "98          GANSTA  UV Protection, Night Vision, Riding Glasses Av...   292   \n",
       "99           NuVew  UV Protection, Mirrored Aviator, Wayfarer Sung...   377   \n",
       "\n",
       "   Discount %  \n",
       "0          87  \n",
       "1          66  \n",
       "2          28  \n",
       "3          77  \n",
       "4          18  \n",
       "..        ...  \n",
       "95         65  \n",
       "96         69  \n",
       "97         79  \n",
       "98         85  \n",
       "99         67  \n",
       "\n",
       "[100 rows x 4 columns]"
      ]
     },
     "execution_count": 81,
     "metadata": {},
     "output_type": "execute_result"
    }
   ],
   "source": [
    "#making a dataframe and keeping the first 100 sunglass information\n",
    "\n",
    "sunglassInfo = pd.DataFrame()\n",
    "\n",
    "sunglassInfo['Brand'] = sunglassBrand[0:100]\n",
    "sunglassInfo['Description'] = sunglassDesc[0:100]\n",
    "sunglassInfo['Price'] = sunglassPrice[0:100]\n",
    "sunglassInfo['Discount %'] = sunglassDiscount[0:100]\n",
    "\n",
    "sunglassInfo"
   ]
  },
  {
   "cell_type": "code",
   "execution_count": 82,
   "metadata": {},
   "outputs": [],
   "source": [
    "driverFlipkart.close()"
   ]
  },
  {
   "cell_type": "code",
   "execution_count": null,
   "metadata": {},
   "outputs": [],
   "source": []
  },
  {
   "cell_type": "raw",
   "metadata": {},
   "source": [
    "Q7: Scrape 100 reviews data from flipkart.com for iphone11 phone. You have to \n",
    "go the link: https://www.flipkart.com/apple-iphone-11-black-64-gb-includes\u0002earpods-power\u0002adapter/p/itm0f37c2240b217?pid=MOBFKCTSVZAXUHGR&lid=LSTMOBFKC\n",
    "TSVZAXUHGREPBFGI&marketplace.\n",
    "\n",
    "These are \n",
    "1. Rating \n",
    "2. Review_summary \n",
    "3. Full review\n",
    "You have to scrape this data for first 100 reviews."
   ]
  },
  {
   "cell_type": "code",
   "execution_count": 83,
   "metadata": {},
   "outputs": [],
   "source": [
    "iPhoneDriver = webdriver.Edge(\"msedgedriver.exe\")\n",
    "iPhoneDriver.get('https://www.flipkart.com/apple-iphone-11-black-64-gb-includes-earpods-power-adapter/p/itm0f37c2240b217?pid=MOBFKCTSVZAXUHGR&lid=LSTMOBFKCTSVZAXUHGREPBFGI&marketplace')"
   ]
  },
  {
   "cell_type": "code",
   "execution_count": 84,
   "metadata": {},
   "outputs": [],
   "source": [
    "#Clicking the all reviews button to go to full review page\n",
    "iPhoneDriver.find_element_by_xpath('//*[@id=\"container\"]/div/div[3]/div[1]/div[2]/div[9]/div/div/div[5]/div/a/div').click()"
   ]
  },
  {
   "cell_type": "code",
   "execution_count": 85,
   "metadata": {},
   "outputs": [],
   "source": [
    "#Checking the first review to study its structure\n",
    "reviews = iPhoneDriver.find_elements_by_class_name('_2wzgFH')\n",
    "a =reviews[0].text.split('\\n')"
   ]
  },
  {
   "cell_type": "code",
   "execution_count": 86,
   "metadata": {},
   "outputs": [
    {
     "data": {
      "text/plain": [
       "['5',\n",
       " 'Brilliant',\n",
       " 'The Best Phone for the Money',\n",
       " '',\n",
       " 'The iPhone 11 offers superb cameras, a more durable design and excellent battery life for an affordable price.',\n",
       " '',\n",
       " 'Compelling ultra-wide camera',\n",
       " 'New Night mode is excellent',\n",
       " 'Long battery life',\n",
       " 'Ankit',\n",
       " 'Certified Buyer, Gurgaon',\n",
       " 'Sep, 2019',\n",
       " '6790988']"
      ]
     },
     "execution_count": 86,
     "metadata": {},
     "output_type": "execute_result"
    }
   ],
   "source": [
    "a"
   ]
  },
  {
   "cell_type": "code",
   "execution_count": 87,
   "metadata": {},
   "outputs": [
    {
     "data": {
      "text/plain": [
       "'The Best Phone for the Money The iPhone 11 offers superb cameras, a more durable design and excellent battery life for an affordable price. Compelling ultra-wide camera New Night mode is excellent Long battery life'"
      ]
     },
     "execution_count": 87,
     "metadata": {},
     "output_type": "execute_result"
    }
   ],
   "source": [
    "' '.join(a[2:9:]).replace('  ', ' ')"
   ]
  },
  {
   "cell_type": "code",
   "execution_count": 88,
   "metadata": {},
   "outputs": [
    {
     "data": {
      "text/plain": [
       "9"
      ]
     },
     "execution_count": 88,
     "metadata": {},
     "output_type": "execute_result"
    }
   ],
   "source": [
    "len(a)-4"
   ]
  },
  {
   "cell_type": "code",
   "execution_count": 89,
   "metadata": {},
   "outputs": [],
   "source": [
    "def iPhoneReviewScrapper():\n",
    "    '''This function scrapes all the iPhone reviews from Flipkarts and then goes to the next page by clicking the Next button'''\n",
    "    rating = []\n",
    "    summary = []\n",
    "    review = []\n",
    "    \n",
    "    reviewList = iPhoneDriver.find_elements_by_class_name('_2wzgFH')\n",
    "    for index in range(len(reviewList)):\n",
    "        reviewItems = reviewList[index].text.split('\\n')\n",
    "        rating.append(reviewItems[0])\n",
    "        summary.append(reviewItems[1])\n",
    "        review.append(' '.join(reviewItems[2:(len(reviewItems)-4)]).replace('  ', ' '))\n",
    "    \n",
    "    #Clicking the next button and waiting for 2 seconds\n",
    "    try:\n",
    "        #This block is for page 2 and subsiquent pages where there is 'Previous' and 'Next' buttons both of which\n",
    "        #have the class '_1LKTO3'\n",
    "        iPhoneDriver.find_elements_by_class_name('_1LKTO3')[1].click()\n",
    "    except:\n",
    "        #This exception block is for the first page only where there is only 'Next' button\n",
    "        iPhoneDriver.find_element_by_class_name('_1LKTO3').click()\n",
    "    \n",
    "    time.sleep(2)\n",
    "        \n",
    "    return rating, summary, review"
   ]
  },
  {
   "cell_type": "code",
   "execution_count": 90,
   "metadata": {},
   "outputs": [
    {
     "name": "stdout",
     "output_type": "stream",
     "text": [
      "Review Page 1 scrapped\n",
      "Review Page 2 scrapped\n",
      "Review Page 3 scrapped\n",
      "Review Page 4 scrapped\n",
      "Review Page 5 scrapped\n",
      "Review Page 6 scrapped\n",
      "Review Page 7 scrapped\n",
      "Review Page 8 scrapped\n",
      "Review Page 9 scrapped\n",
      "Review Page 10 scrapped\n"
     ]
    }
   ],
   "source": [
    "#Scrapping iPhone reviews for the first 10 pages\n",
    "\n",
    "time.sleep(2)\n",
    "\n",
    "iPhoneRating = []\n",
    "iPhoneSummary = []\n",
    "iPhoneReview = []\n",
    "\n",
    "for index in range(0, 10):\n",
    "    r, s, re = iPhoneReviewScrapper()\n",
    "    iPhoneRating.extend(r)\n",
    "    iPhoneSummary.extend(s)\n",
    "    iPhoneReview.extend(re)\n",
    "    print(f'Review Page {index+1} scrapped')"
   ]
  },
  {
   "cell_type": "code",
   "execution_count": 91,
   "metadata": {},
   "outputs": [
    {
     "data": {
      "text/html": [
       "<div>\n",
       "<style scoped>\n",
       "    .dataframe tbody tr th:only-of-type {\n",
       "        vertical-align: middle;\n",
       "    }\n",
       "\n",
       "    .dataframe tbody tr th {\n",
       "        vertical-align: top;\n",
       "    }\n",
       "\n",
       "    .dataframe thead th {\n",
       "        text-align: right;\n",
       "    }\n",
       "</style>\n",
       "<table border=\"1\" class=\"dataframe\">\n",
       "  <thead>\n",
       "    <tr style=\"text-align: right;\">\n",
       "      <th></th>\n",
       "      <th>Review Title</th>\n",
       "      <th>Rating</th>\n",
       "      <th>Full Review</th>\n",
       "    </tr>\n",
       "  </thead>\n",
       "  <tbody>\n",
       "    <tr>\n",
       "      <th>0</th>\n",
       "      <td>Brilliant</td>\n",
       "      <td>5</td>\n",
       "      <td>The Best Phone for the Money The iPhone 11 off...</td>\n",
       "    </tr>\n",
       "    <tr>\n",
       "      <th>1</th>\n",
       "      <td>Perfect product!</td>\n",
       "      <td>5</td>\n",
       "      <td>Amazing phone with great cameras and better ba...</td>\n",
       "    </tr>\n",
       "    <tr>\n",
       "      <th>2</th>\n",
       "      <td>Great product</td>\n",
       "      <td>5</td>\n",
       "      <td>Amazing Powerful and Durable Gadget. I’m am ve...</td>\n",
       "    </tr>\n",
       "    <tr>\n",
       "      <th>3</th>\n",
       "      <td>Worth every penny</td>\n",
       "      <td>5</td>\n",
       "      <td>Previously I was using one plus 3t it was a gr...</td>\n",
       "    </tr>\n",
       "    <tr>\n",
       "      <th>4</th>\n",
       "      <td>Good choice</td>\n",
       "      <td>4</td>\n",
       "      <td>So far it’s been an AMAZING experience coming ...</td>\n",
       "    </tr>\n",
       "    <tr>\n",
       "      <th>...</th>\n",
       "      <td>...</td>\n",
       "      <td>...</td>\n",
       "      <td>...</td>\n",
       "    </tr>\n",
       "    <tr>\n",
       "      <th>95</th>\n",
       "      <td>Good quality product</td>\n",
       "      <td>4</td>\n",
       "      <td>Awesome camera, smooth and fast UI, display is...</td>\n",
       "    </tr>\n",
       "    <tr>\n",
       "      <th>96</th>\n",
       "      <td>Fabulous!</td>\n",
       "      <td>5</td>\n",
       "      <td>Everything is perfect pictures come out so cle...</td>\n",
       "    </tr>\n",
       "    <tr>\n",
       "      <th>97</th>\n",
       "      <td>Not recommended at all</td>\n",
       "      <td>1</td>\n",
       "      <td>They are selling cheep quality items. There is...</td>\n",
       "    </tr>\n",
       "    <tr>\n",
       "      <th>98</th>\n",
       "      <td>Does the job</td>\n",
       "      <td>3</td>\n",
       "      <td>phone is good but in display is 720p lcd in th...</td>\n",
       "    </tr>\n",
       "    <tr>\n",
       "      <th>99</th>\n",
       "      <td>Excellent</td>\n",
       "      <td>5</td>\n",
       "      <td>A perfect phone and a good battery super camer...</td>\n",
       "    </tr>\n",
       "  </tbody>\n",
       "</table>\n",
       "<p>100 rows × 3 columns</p>\n",
       "</div>"
      ],
      "text/plain": [
       "              Review Title Rating  \\\n",
       "0                Brilliant      5   \n",
       "1         Perfect product!      5   \n",
       "2            Great product      5   \n",
       "3        Worth every penny      5   \n",
       "4              Good choice      4   \n",
       "..                     ...    ...   \n",
       "95    Good quality product      4   \n",
       "96               Fabulous!      5   \n",
       "97  Not recommended at all      1   \n",
       "98            Does the job      3   \n",
       "99               Excellent      5   \n",
       "\n",
       "                                          Full Review  \n",
       "0   The Best Phone for the Money The iPhone 11 off...  \n",
       "1   Amazing phone with great cameras and better ba...  \n",
       "2   Amazing Powerful and Durable Gadget. I’m am ve...  \n",
       "3   Previously I was using one plus 3t it was a gr...  \n",
       "4   So far it’s been an AMAZING experience coming ...  \n",
       "..                                                ...  \n",
       "95  Awesome camera, smooth and fast UI, display is...  \n",
       "96  Everything is perfect pictures come out so cle...  \n",
       "97  They are selling cheep quality items. There is...  \n",
       "98  phone is good but in display is 720p lcd in th...  \n",
       "99  A perfect phone and a good battery super camer...  \n",
       "\n",
       "[100 rows x 3 columns]"
      ]
     },
     "execution_count": 91,
     "metadata": {},
     "output_type": "execute_result"
    }
   ],
   "source": [
    "#Making a dataframe of all reviews\n",
    "\n",
    "iPhoneReviewsDf = pd.DataFrame()\n",
    "\n",
    "iPhoneReviewsDf['Review Title'] = iPhoneSummary\n",
    "iPhoneReviewsDf['Rating'] = iPhoneRating\n",
    "iPhoneReviewsDf['Full Review'] = iPhoneReview\n",
    "\n",
    "iPhoneReviewsDf"
   ]
  },
  {
   "cell_type": "code",
   "execution_count": 92,
   "metadata": {},
   "outputs": [],
   "source": [
    "iPhoneDriver.close()"
   ]
  },
  {
   "cell_type": "code",
   "execution_count": null,
   "metadata": {},
   "outputs": [],
   "source": []
  },
  {
   "cell_type": "raw",
   "metadata": {},
   "source": [
    "Q8: Scrape data for first 100 sneakers you find when you visit flipkart.com and search for “sneakers” in the search field.\n",
    "\n",
    "You have to scrape 4 attributes of each sneaker :\n",
    "1. Brand\n",
    "2. Product Description\n",
    "3. Price\n",
    "4. discount %\n",
    "\n",
    "Also note that all the steps required during scraping should be done through code only and not manually."
   ]
  },
  {
   "cell_type": "code",
   "execution_count": 93,
   "metadata": {},
   "outputs": [],
   "source": [
    "sneakerDriver = webdriver.Edge(\"msedgedriver.exe\")\n",
    "sneakerDriver.get('https://www.flipkart.com')"
   ]
  },
  {
   "cell_type": "code",
   "execution_count": 94,
   "metadata": {},
   "outputs": [],
   "source": [
    "#Filling the search bar and clicking search\n",
    "\n",
    "searchTerm = 'snearkers'\n",
    "\n",
    "sneakerDriver.find_element_by_xpath('/html/body/div[2]/div/div/button').click() #dismissing flipkart offer/login pop-up\n",
    "sneakerDriver.find_element_by_xpath('//*[@id=\"container\"]/div/div[1]/div[1]/div[2]/div[2]/form/div/div/input').send_keys(searchTerm)\n",
    "sneakerDriver.find_element_by_xpath('//*[@id=\"container\"]/div/div[1]/div[1]/div[2]/div[2]/form/div/button').click()"
   ]
  },
  {
   "cell_type": "code",
   "execution_count": 95,
   "metadata": {},
   "outputs": [],
   "source": [
    "#Taking the first element and inspecting the structure to see what combination of commands produces the desired output\n",
    "#Then we will use these combination \n",
    "time.sleep(2)\n",
    "listings = sneakerDriver.find_elements_by_class_name('_2B099V')"
   ]
  },
  {
   "cell_type": "code",
   "execution_count": 96,
   "metadata": {},
   "outputs": [
    {
     "data": {
      "text/plain": [
       "['Robbie jones',\n",
       " 'Casual Sneakers Shoes For Men Sneakers For Men',\n",
       " '₹379₹99962% off']"
      ]
     },
     "execution_count": 96,
     "metadata": {},
     "output_type": "execute_result"
    }
   ],
   "source": [
    "a = listings[0].text.split('\\n')\n",
    "a"
   ]
  },
  {
   "cell_type": "code",
   "execution_count": 97,
   "metadata": {},
   "outputs": [
    {
     "data": {
      "text/plain": [
       "'Robbie jones'"
      ]
     },
     "execution_count": 97,
     "metadata": {},
     "output_type": "execute_result"
    }
   ],
   "source": [
    "a[0]"
   ]
  },
  {
   "cell_type": "code",
   "execution_count": 98,
   "metadata": {},
   "outputs": [
    {
     "data": {
      "text/plain": [
       "'Casual Sneakers Shoes For Men Sneakers For Men'"
      ]
     },
     "execution_count": 98,
     "metadata": {},
     "output_type": "execute_result"
    }
   ],
   "source": [
    "a[1]"
   ]
  },
  {
   "cell_type": "code",
   "execution_count": 99,
   "metadata": {},
   "outputs": [
    {
     "data": {
      "text/plain": [
       "'379'"
      ]
     },
     "execution_count": 99,
     "metadata": {},
     "output_type": "execute_result"
    }
   ],
   "source": [
    "a[2].split('₹')[1]"
   ]
  },
  {
   "cell_type": "code",
   "execution_count": 100,
   "metadata": {},
   "outputs": [
    {
     "data": {
      "text/plain": [
       "'62'"
      ]
     },
     "execution_count": 100,
     "metadata": {},
     "output_type": "execute_result"
    }
   ],
   "source": [
    "a[2].split('₹')[2].split()[-2][-3:-1]"
   ]
  },
  {
   "cell_type": "code",
   "execution_count": 101,
   "metadata": {},
   "outputs": [],
   "source": [
    "def sneakerScrapper():\n",
    "    '''This function scrapes all the listings in Flipkarts page and then goes to the next page by clicking the Next button'''\n",
    "    brand = []\n",
    "    proDesc = []\n",
    "    price = []\n",
    "    discount = []\n",
    "    time.sleep(2)\n",
    "    sneakerListing = sneakerDriver.find_elements_by_class_name('_2B099V')\n",
    "    for index in range(len(sneakerListing)):\n",
    "        try:\n",
    "            sneakerInfo = sneakerListing[index].text.split('\\n')\n",
    "            brand.append(sneakerInfo[0])\n",
    "            proDesc.append(sneakerInfo[1])\n",
    "            price.append(sneakerInfo[2].split('₹')[1])\n",
    "            discount.append(sneakerInfo[2].split('₹')[2].split()[-2][-3:-1])\n",
    "        except IndexError:\n",
    "            continue\n",
    "    \n",
    "    #Clicking the next button and waiting for 2 seconds\n",
    "    try:\n",
    "        #This block is for page 2 and subsiquent pages where there is 'Previous' and 'Next' buttons both of which\n",
    "        #have the class '_1LKTO3'\n",
    "        sneakerDriver.find_elements_by_class_name('_1LKTO3')[1].click()\n",
    "    except:\n",
    "        #This exception block is for the first page only where there is only 'Next' button\n",
    "        sneakerDriver.find_element_by_class_name('_1LKTO3').click()\n",
    "        \n",
    "    time.sleep(2)\n",
    "        \n",
    "    return brand, proDesc, price, discount"
   ]
  },
  {
   "cell_type": "code",
   "execution_count": 102,
   "metadata": {},
   "outputs": [
    {
     "name": "stdout",
     "output_type": "stream",
     "text": [
      "Product Page 1 scrapped\n",
      "Product Page 2 scrapped\n",
      "Product Page 3 scrapped\n"
     ]
    }
   ],
   "source": [
    "#Scrapping sneakers data from the first 3 pages\n",
    "time.sleep(2)\n",
    "\n",
    "sneakerBrand = []\n",
    "sneakerDesc = []\n",
    "sneakerPrice = []\n",
    "sneakerDiscount = []\n",
    "\n",
    "for index in range(0,3):\n",
    "    b, d, p, dis = sneakerScrapper()\n",
    "    sneakerBrand.extend(b)\n",
    "    sneakerDesc.extend(d)\n",
    "    sneakerPrice.extend(p)\n",
    "    sneakerDiscount.extend(dis)\n",
    "    print(f'Product Page {index + 1} scrapped')"
   ]
  },
  {
   "cell_type": "code",
   "execution_count": 103,
   "metadata": {},
   "outputs": [
    {
     "data": {
      "text/html": [
       "<div>\n",
       "<style scoped>\n",
       "    .dataframe tbody tr th:only-of-type {\n",
       "        vertical-align: middle;\n",
       "    }\n",
       "\n",
       "    .dataframe tbody tr th {\n",
       "        vertical-align: top;\n",
       "    }\n",
       "\n",
       "    .dataframe thead th {\n",
       "        text-align: right;\n",
       "    }\n",
       "</style>\n",
       "<table border=\"1\" class=\"dataframe\">\n",
       "  <thead>\n",
       "    <tr style=\"text-align: right;\">\n",
       "      <th></th>\n",
       "      <th>Brand</th>\n",
       "      <th>Description</th>\n",
       "      <th>Price</th>\n",
       "      <th>Discount %</th>\n",
       "    </tr>\n",
       "  </thead>\n",
       "  <tbody>\n",
       "    <tr>\n",
       "      <th>0</th>\n",
       "      <td>Robbie jones</td>\n",
       "      <td>Casual Sneakers Shoes For Men Sneakers For Men</td>\n",
       "      <td>379</td>\n",
       "      <td>62</td>\n",
       "    </tr>\n",
       "    <tr>\n",
       "      <th>1</th>\n",
       "      <td>Wika</td>\n",
       "      <td>Sneakers For Men</td>\n",
       "      <td>449</td>\n",
       "      <td>55</td>\n",
       "    </tr>\n",
       "    <tr>\n",
       "      <th>2</th>\n",
       "      <td>Numenzo</td>\n",
       "      <td>Sneakers For Men</td>\n",
       "      <td>399</td>\n",
       "      <td>60</td>\n",
       "    </tr>\n",
       "    <tr>\n",
       "      <th>3</th>\n",
       "      <td>BRUTON</td>\n",
       "      <td>Men Sports Sneakers For Men</td>\n",
       "      <td>299</td>\n",
       "      <td>76</td>\n",
       "    </tr>\n",
       "    <tr>\n",
       "      <th>4</th>\n",
       "      <td>ORICUM</td>\n",
       "      <td>Combo pack of 2 casual sneaker shoes for men S...</td>\n",
       "      <td>377</td>\n",
       "      <td>62</td>\n",
       "    </tr>\n",
       "    <tr>\n",
       "      <th>...</th>\n",
       "      <td>...</td>\n",
       "      <td>...</td>\n",
       "      <td>...</td>\n",
       "      <td>...</td>\n",
       "    </tr>\n",
       "    <tr>\n",
       "      <th>95</th>\n",
       "      <td>KANEGGYE</td>\n",
       "      <td>Sneakers For Men</td>\n",
       "      <td>410</td>\n",
       "      <td>53</td>\n",
       "    </tr>\n",
       "    <tr>\n",
       "      <th>96</th>\n",
       "      <td>Imcolus</td>\n",
       "      <td>Sneakers For Men</td>\n",
       "      <td>464</td>\n",
       "      <td>62</td>\n",
       "    </tr>\n",
       "    <tr>\n",
       "      <th>97</th>\n",
       "      <td>PUMA</td>\n",
       "      <td>Icon IDP Sneakers For Men</td>\n",
       "      <td>1,234</td>\n",
       "      <td>72</td>\n",
       "    </tr>\n",
       "    <tr>\n",
       "      <th>98</th>\n",
       "      <td>VISTAARA</td>\n",
       "      <td>489 Black Sneakers For Men</td>\n",
       "      <td>279</td>\n",
       "      <td>66</td>\n",
       "    </tr>\n",
       "    <tr>\n",
       "      <th>99</th>\n",
       "      <td>Bucik</td>\n",
       "      <td>Black Casual Shoes Synthetic Leather for Men S...</td>\n",
       "      <td>674</td>\n",
       "      <td>23</td>\n",
       "    </tr>\n",
       "  </tbody>\n",
       "</table>\n",
       "<p>100 rows × 4 columns</p>\n",
       "</div>"
      ],
      "text/plain": [
       "           Brand                                        Description  Price  \\\n",
       "0   Robbie jones     Casual Sneakers Shoes For Men Sneakers For Men    379   \n",
       "1           Wika                                   Sneakers For Men    449   \n",
       "2        Numenzo                                   Sneakers For Men    399   \n",
       "3         BRUTON                        Men Sports Sneakers For Men    299   \n",
       "4         ORICUM  Combo pack of 2 casual sneaker shoes for men S...    377   \n",
       "..           ...                                                ...    ...   \n",
       "95      KANEGGYE                                   Sneakers For Men    410   \n",
       "96       Imcolus                                   Sneakers For Men    464   \n",
       "97          PUMA                          Icon IDP Sneakers For Men  1,234   \n",
       "98      VISTAARA                         489 Black Sneakers For Men    279   \n",
       "99         Bucik  Black Casual Shoes Synthetic Leather for Men S...    674   \n",
       "\n",
       "   Discount %  \n",
       "0          62  \n",
       "1          55  \n",
       "2          60  \n",
       "3          76  \n",
       "4          62  \n",
       "..        ...  \n",
       "95         53  \n",
       "96         62  \n",
       "97         72  \n",
       "98         66  \n",
       "99         23  \n",
       "\n",
       "[100 rows x 4 columns]"
      ]
     },
     "execution_count": 103,
     "metadata": {},
     "output_type": "execute_result"
    }
   ],
   "source": [
    "#Making a dataframe with sneaker data and keeping the first 100 sneaker info\n",
    "\n",
    "sneakerInfo = pd.DataFrame()\n",
    "\n",
    "sneakerInfo['Brand'] = sneakerBrand[0:100]\n",
    "sneakerInfo['Description'] = sneakerDesc[0:100]\n",
    "sneakerInfo['Price'] = sneakerPrice[0:100]\n",
    "sneakerInfo['Discount %'] = sneakerDiscount[0:100]\n",
    "\n",
    "sneakerInfo"
   ]
  },
  {
   "cell_type": "code",
   "execution_count": 104,
   "metadata": {},
   "outputs": [],
   "source": [
    "sneakerDriver.close()"
   ]
  },
  {
   "cell_type": "code",
   "execution_count": null,
   "metadata": {},
   "outputs": [],
   "source": []
  },
  {
   "cell_type": "raw",
   "metadata": {},
   "source": [
    "Q9: Go to the link - https://www.myntra.com/shoes\n",
    "Set Price filter to “Rs. 6649 to Rs. 13099” , Color filter to “Black”. And then scrape First 100 shoes data you get. The data should include “Brand” of \n",
    "the shoes , Short Shoe description, price of the shoe\n",
    "\n",
    "Please note that applying the filter and scraping the data , everything should be \n",
    "done through code only and there should not be any manual step."
   ]
  },
  {
   "cell_type": "code",
   "execution_count": 105,
   "metadata": {},
   "outputs": [],
   "source": [
    "myntraDriver = webdriver.Edge(\"msedgedriver.exe\")\n",
    "myntraDriver.get('https://www.myntra.com/shoes')"
   ]
  },
  {
   "cell_type": "code",
   "execution_count": 106,
   "metadata": {},
   "outputs": [],
   "source": [
    "#applying the colours filter\n",
    "myntraDriver.find_element_by_xpath('//*[@id=\"mountRoot\"]/div/div[1]/main/div[3]/div[1]/section/div/div[6]/ul/li[1]').click()\n",
    "\n",
    "time.sleep(2)"
   ]
  },
  {
   "cell_type": "code",
   "execution_count": 107,
   "metadata": {},
   "outputs": [],
   "source": [
    "#applying the price filter\n",
    "myntraDriver.find_element_by_xpath('//*[@id=\"mountRoot\"]/div/div[1]/main/div[3]/div[1]/section/div/div[5]/ul/li[2]/label').click()"
   ]
  },
  {
   "cell_type": "code",
   "execution_count": 108,
   "metadata": {},
   "outputs": [
    {
     "data": {
      "text/plain": [
       "50"
      ]
     },
     "execution_count": 108,
     "metadata": {},
     "output_type": "execute_result"
    }
   ],
   "source": [
    "#Getting page 1 shoe informations\n",
    "time.sleep(2)\n",
    "page1shoes = myntraDriver.find_elements_by_class_name('product-productMetaInfo')\n",
    "len(page1shoes)"
   ]
  },
  {
   "cell_type": "code",
   "execution_count": 109,
   "metadata": {},
   "outputs": [
    {
     "data": {
      "text/plain": [
       "['Hush Puppies', 'Men Solid Leather Formal Slip-Ons', 'Rs. 8999']"
      ]
     },
     "execution_count": 109,
     "metadata": {},
     "output_type": "execute_result"
    }
   ],
   "source": [
    "a = page1shoes[0].text.split('\\n')\n",
    "a"
   ]
  },
  {
   "cell_type": "code",
   "execution_count": 110,
   "metadata": {},
   "outputs": [
    {
     "data": {
      "text/plain": [
       "'8999'"
      ]
     },
     "execution_count": 110,
     "metadata": {},
     "output_type": "execute_result"
    }
   ],
   "source": [
    "a[2].split('Rs.')[1].replace(' ', '')"
   ]
  },
  {
   "cell_type": "code",
   "execution_count": 111,
   "metadata": {},
   "outputs": [
    {
     "name": "stdout",
     "output_type": "stream",
     "text": [
      "Getting Product 1\n",
      "Done for Product 1\n",
      "Getting Product 2\n",
      "Done for Product 2\n",
      "Getting Product 3\n",
      "Done for Product 3\n",
      "Getting Product 4\n",
      "Done for Product 4\n",
      "Getting Product 5\n",
      "Done for Product 5\n",
      "Getting Product 6\n",
      "Done for Product 6\n",
      "Getting Product 7\n",
      "Done for Product 7\n",
      "Getting Product 8\n",
      "Done for Product 8\n",
      "Getting Product 9\n",
      "Done for Product 9\n",
      "Getting Product 10\n",
      "Done for Product 10\n",
      "Getting Product 11\n",
      "Done for Product 11\n",
      "Getting Product 12\n",
      "Done for Product 12\n",
      "Getting Product 13\n",
      "Done for Product 13\n",
      "Getting Product 14\n",
      "Done for Product 14\n",
      "Getting Product 15\n",
      "Done for Product 15\n",
      "Getting Product 16\n",
      "Done for Product 16\n",
      "Getting Product 17\n",
      "Done for Product 17\n",
      "Getting Product 18\n",
      "Done for Product 18\n",
      "Getting Product 19\n",
      "Done for Product 19\n",
      "Getting Product 20\n",
      "Done for Product 20\n",
      "Getting Product 21\n",
      "Done for Product 21\n",
      "Getting Product 22\n",
      "Done for Product 22\n",
      "Getting Product 23\n",
      "Done for Product 23\n",
      "Getting Product 24\n",
      "Done for Product 24\n",
      "Getting Product 25\n",
      "Done for Product 25\n",
      "Getting Product 26\n",
      "Done for Product 26\n",
      "Getting Product 27\n",
      "Done for Product 27\n",
      "Getting Product 28\n",
      "Done for Product 28\n",
      "Getting Product 29\n",
      "Done for Product 29\n",
      "Getting Product 30\n",
      "Done for Product 30\n",
      "Getting Product 31\n",
      "Done for Product 31\n",
      "Getting Product 32\n",
      "Done for Product 32\n",
      "Getting Product 33\n",
      "Done for Product 33\n",
      "Getting Product 34\n",
      "Done for Product 34\n",
      "Getting Product 35\n",
      "Done for Product 35\n",
      "Getting Product 36\n",
      "Done for Product 36\n",
      "Getting Product 37\n",
      "Done for Product 37\n",
      "Getting Product 38\n",
      "Done for Product 38\n",
      "Getting Product 39\n",
      "Done for Product 39\n",
      "Getting Product 40\n",
      "Done for Product 40\n",
      "Getting Product 41\n",
      "Done for Product 41\n",
      "Getting Product 42\n",
      "Done for Product 42\n",
      "Getting Product 43\n",
      "Done for Product 43\n",
      "Getting Product 44\n",
      "Done for Product 44\n",
      "Getting Product 45\n",
      "Done for Product 45\n",
      "Getting Product 46\n",
      "Done for Product 46\n",
      "Getting Product 47\n",
      "Done for Product 47\n",
      "Getting Product 48\n",
      "Done for Product 48\n",
      "Getting Product 49\n",
      "Done for Product 49\n",
      "Getting Product 50\n",
      "Done for Product 50\n"
     ]
    }
   ],
   "source": [
    "#making three empty list and adding the brand, description and price information there\n",
    "\n",
    "brand = []\n",
    "shortDesc = []\n",
    "price = []\n",
    "\n",
    "for index in range(len(page1shoes)):\n",
    "    print(f'Getting Product {index+1}')\n",
    "    shoeInfo = page1shoes[index].text.split('\\n')\n",
    "    brand.append(shoeInfo[0])\n",
    "    shortDesc.append(shoeInfo[1])\n",
    "    price.append(shoeInfo[2].split('Rs.')[1].replace(' ', ''))\n",
    "    print(f'Done for Product {index+1}')"
   ]
  },
  {
   "cell_type": "code",
   "execution_count": 112,
   "metadata": {},
   "outputs": [
    {
     "data": {
      "text/plain": [
       "'Hush Puppies\\nMen Solid Leather Formal Slip-Ons\\nRs. 8999'"
      ]
     },
     "execution_count": 112,
     "metadata": {},
     "output_type": "execute_result"
    }
   ],
   "source": [
    "page1shoes[0].text"
   ]
  },
  {
   "cell_type": "code",
   "execution_count": 113,
   "metadata": {},
   "outputs": [],
   "source": [
    "myntraDriver.find_element_by_xpath('//*[@id=\"desktopSearchResults\"]/div[2]/section/div[2]/ul/li[12]/a').click()"
   ]
  },
  {
   "cell_type": "code",
   "execution_count": 114,
   "metadata": {},
   "outputs": [],
   "source": [
    "#Getting page 2 shoe informations and adding the brand, description and price information to ther existing list of brand, descriptipn  and price\n",
    "page2shoes = myntraDriver.find_elements_by_class_name('product-productMetaInfo')\n",
    "\n",
    "time.sleep(2)\n",
    "\n",
    "for index in range(len(page2shoes)):\n",
    "    shoeInfo = page2shoes[index].text.split('\\n')\n",
    "    brand.append(shoeInfo[0])\n",
    "    shortDesc.append(shoeInfo[1])\n",
    "    price.append(shoeInfo[2].split('Rs.')[1].replace(' ', ''))"
   ]
  },
  {
   "cell_type": "code",
   "execution_count": 115,
   "metadata": {},
   "outputs": [],
   "source": [
    "#Getting page 3 shoe informations and adding the brand, description and price information to ther existing list of brand, descriptipn  and price\n",
    "\n",
    "page3shoes = myntraDriver.find_element_by_class_name('product-productMetaInfo').text.split('\\n')\n",
    "\n",
    "brand.append(page3shoes[0])\n",
    "shortDesc.append(page3shoes[1])\n",
    "price.append(page3shoes[2].split('Rs.')[1].replace(' ', ''))"
   ]
  },
  {
   "cell_type": "code",
   "execution_count": 116,
   "metadata": {
    "scrolled": true
   },
   "outputs": [
    {
     "data": {
      "text/html": [
       "<div>\n",
       "<style scoped>\n",
       "    .dataframe tbody tr th:only-of-type {\n",
       "        vertical-align: middle;\n",
       "    }\n",
       "\n",
       "    .dataframe tbody tr th {\n",
       "        vertical-align: top;\n",
       "    }\n",
       "\n",
       "    .dataframe thead th {\n",
       "        text-align: right;\n",
       "    }\n",
       "</style>\n",
       "<table border=\"1\" class=\"dataframe\">\n",
       "  <thead>\n",
       "    <tr style=\"text-align: right;\">\n",
       "      <th></th>\n",
       "      <th>Brand</th>\n",
       "      <th>Price</th>\n",
       "      <th>Description</th>\n",
       "    </tr>\n",
       "  </thead>\n",
       "  <tbody>\n",
       "    <tr>\n",
       "      <th>0</th>\n",
       "      <td>Hush Puppies</td>\n",
       "      <td>8999</td>\n",
       "      <td>Men Solid Leather Formal Slip-Ons</td>\n",
       "    </tr>\n",
       "    <tr>\n",
       "      <th>1</th>\n",
       "      <td>Heel &amp; Buckle London</td>\n",
       "      <td>7693</td>\n",
       "      <td>Men Leather Formal Oxfords</td>\n",
       "    </tr>\n",
       "    <tr>\n",
       "      <th>2</th>\n",
       "      <td>Florsheim</td>\n",
       "      <td>6995</td>\n",
       "      <td>Men Solid Leather Formal Loafers</td>\n",
       "    </tr>\n",
       "    <tr>\n",
       "      <th>3</th>\n",
       "      <td>Nike</td>\n",
       "      <td>11495</td>\n",
       "      <td>AIR ZOOM PEGASUS Running Shoes</td>\n",
       "    </tr>\n",
       "    <tr>\n",
       "      <th>4</th>\n",
       "      <td>Nike</td>\n",
       "      <td>12995</td>\n",
       "      <td>Men KD13 EP Basketball Shoes</td>\n",
       "    </tr>\n",
       "    <tr>\n",
       "      <th>...</th>\n",
       "      <td>...</td>\n",
       "      <td>...</td>\n",
       "      <td>...</td>\n",
       "    </tr>\n",
       "    <tr>\n",
       "      <th>96</th>\n",
       "      <td>Florsheim</td>\n",
       "      <td>6995</td>\n",
       "      <td>Men Solid Leather Formal Loafers</td>\n",
       "    </tr>\n",
       "    <tr>\n",
       "      <th>97</th>\n",
       "      <td>Ruosh</td>\n",
       "      <td>8990</td>\n",
       "      <td>Men Textured Derbys</td>\n",
       "    </tr>\n",
       "    <tr>\n",
       "      <th>98</th>\n",
       "      <td>Florsheim</td>\n",
       "      <td>6995</td>\n",
       "      <td>Men Solid Leather Formal Derbys</td>\n",
       "    </tr>\n",
       "    <tr>\n",
       "      <th>99</th>\n",
       "      <td>FILA</td>\n",
       "      <td>6999</td>\n",
       "      <td>Women Solid Sneakers</td>\n",
       "    </tr>\n",
       "    <tr>\n",
       "      <th>100</th>\n",
       "      <td>Hush Puppies</td>\n",
       "      <td>6999</td>\n",
       "      <td>Men Leather Formal Derbys</td>\n",
       "    </tr>\n",
       "  </tbody>\n",
       "</table>\n",
       "<p>101 rows × 3 columns</p>\n",
       "</div>"
      ],
      "text/plain": [
       "                    Brand  Price                        Description\n",
       "0            Hush Puppies   8999  Men Solid Leather Formal Slip-Ons\n",
       "1    Heel & Buckle London   7693         Men Leather Formal Oxfords\n",
       "2               Florsheim   6995   Men Solid Leather Formal Loafers\n",
       "3                    Nike  11495     AIR ZOOM PEGASUS Running Shoes\n",
       "4                    Nike  12995       Men KD13 EP Basketball Shoes\n",
       "..                    ...    ...                                ...\n",
       "96              Florsheim   6995   Men Solid Leather Formal Loafers\n",
       "97                  Ruosh   8990                Men Textured Derbys\n",
       "98              Florsheim   6995    Men Solid Leather Formal Derbys\n",
       "99                   FILA   6999               Women Solid Sneakers\n",
       "100          Hush Puppies   6999          Men Leather Formal Derbys\n",
       "\n",
       "[101 rows x 3 columns]"
      ]
     },
     "execution_count": 116,
     "metadata": {},
     "output_type": "execute_result"
    }
   ],
   "source": [
    "#making a dataframe with all shoes\n",
    "\n",
    "myntraSneakersDf = pd.DataFrame()\n",
    "\n",
    "myntraSneakersDf['Brand'] = brand\n",
    "myntraSneakersDf['Price'] = price\n",
    "myntraSneakersDf['Description'] = shortDesc\n",
    "\n",
    "myntraSneakersDf"
   ]
  },
  {
   "cell_type": "code",
   "execution_count": 117,
   "metadata": {},
   "outputs": [],
   "source": [
    "myntraDriver.close()"
   ]
  },
  {
   "cell_type": "code",
   "execution_count": null,
   "metadata": {},
   "outputs": [],
   "source": []
  },
  {
   "cell_type": "raw",
   "metadata": {},
   "source": [
    "Q10: Go to webpage https://www.amazon.in/\n",
    " Enter “Laptop” in the search field and then click the search icon.\n",
    " Then set CPU Type filter to “Intel Core i7” and “Intel Core i9”.\n",
    " After setting the filters scrape first 10 laptops data. You have to scrape 3 attributes for each laptop:\n",
    "    1. title\n",
    "    2. Ratings\n",
    "    3. Price"
   ]
  },
  {
   "cell_type": "raw",
   "metadata": {},
   "source": [
    "Note: Amazon has a very dynamic website and it changes with each session. Sometimes all the products dont have the same information, sometimes they do not follow the usual patter which causes the code to crash. In such a case, please re-run the code after some time. Also, sometimes the i9 filter is not shown. In this case, close the session and re-run the code until the filter shows up."
   ]
  },
  {
   "cell_type": "code",
   "execution_count": 118,
   "metadata": {},
   "outputs": [],
   "source": [
    "driverAmazon = webdriver.Edge(\"msedgedriver.exe\")\n",
    "driverAmazon.get('https://www.amazon.in')"
   ]
  },
  {
   "cell_type": "code",
   "execution_count": 119,
   "metadata": {},
   "outputs": [],
   "source": [
    "#filling the search bar\n",
    "driverAmazon.find_element_by_xpath('//*[@id=\"twotabsearchtextbox\"]').send_keys('Laptop')"
   ]
  },
  {
   "cell_type": "code",
   "execution_count": 120,
   "metadata": {},
   "outputs": [],
   "source": [
    "#clicking the search button\n",
    "driverAmazon.find_element_by_xpath('//*[@id=\"nav-search-submit-button\"]').click()"
   ]
  },
  {
   "cell_type": "code",
   "execution_count": 121,
   "metadata": {},
   "outputs": [],
   "source": [
    "#applying i7 filter\n",
    "time.sleep(3)\n",
    "driverAmazon.find_element_by_xpath('//*[@id=\"p_n_feature_thirteen_browse-bin/12598163031\"]/span').click()"
   ]
  },
  {
   "cell_type": "code",
   "execution_count": 124,
   "metadata": {},
   "outputs": [
    {
     "data": {
      "text/plain": [
       "[\"(Renewed) HP EliteBook 840 G3 Laptop (Core i7 6th Gen/8GB/500GB/WEBCAM/14'' Touch/DOS)\",\n",
       " '₹44,999',\n",
       " '₹1,20,000 Save ₹75,001 (63%)',\n",
       " 'Save extra with No Cost EMI',\n",
       " 'Get it by Monday, May 31',\n",
       " 'FREE Delivery',\n",
       " 'Only 1 left in stock.']"
      ]
     },
     "execution_count": 124,
     "metadata": {},
     "output_type": "execute_result"
    }
   ],
   "source": [
    "#checking the first listing to study the structure\n",
    "i7 = driverAmazon.find_element_by_xpath('//*[@id=\"search\"]/div[1]/div/div[1]/div/span[3]/div[2]/div[4]/div/span/div/div/div[2]/div[2]/div').text.split('\\n')\n",
    "i7"
   ]
  },
  {
   "cell_type": "code",
   "execution_count": 125,
   "metadata": {},
   "outputs": [
    {
     "data": {
      "text/plain": [
       "\"(Renewed) HP EliteBook 840 G3 Laptop (Core i7 6th Gen/8GB/500GB/WEBCAM/14'' Touch/DOS)\""
      ]
     },
     "execution_count": 125,
     "metadata": {},
     "output_type": "execute_result"
    }
   ],
   "source": [
    "i7[0]"
   ]
  },
  {
   "cell_type": "code",
   "execution_count": 126,
   "metadata": {},
   "outputs": [
    {
     "data": {
      "text/plain": [
       "'₹1,20,000 Save ₹75,001 (63%)'"
      ]
     },
     "execution_count": 126,
     "metadata": {},
     "output_type": "execute_result"
    }
   ],
   "source": [
    "i7[2]"
   ]
  },
  {
   "cell_type": "code",
   "execution_count": null,
   "metadata": {},
   "outputs": [],
   "source": []
  },
  {
   "cell_type": "code",
   "execution_count": null,
   "metadata": {},
   "outputs": [],
   "source": []
  },
  {
   "cell_type": "code",
   "execution_count": 128,
   "metadata": {},
   "outputs": [],
   "source": [
    "#rating = driverAmazon.find_element_by_xpath('//*[@id=\"search\"]/div[1]/div/div[1]/div/span[3]/div[2]/div[4]/div/span/div/div/div[2]/div[2]/div/div[2]/div/span[1]/span/a/i[1]/span').get_attribute('innerHTML')\n",
    "#rating"
   ]
  },
  {
   "cell_type": "code",
   "execution_count": 129,
   "metadata": {},
   "outputs": [
    {
     "name": "stdout",
     "output_type": "stream",
     "text": [
      "Getting Product 1\n",
      "Getting Product 2\n",
      "Getting Product 3\n",
      "Getting Product 4\n",
      "Getting Product 5\n",
      "Getting Product 6\n",
      "Getting Product 7\n",
      "Getting Product 8\n",
      "Getting Product 9\n",
      "Getting Product 10\n",
      "Getting Product 11\n",
      "Getting Product 12\n",
      "Getting Product 13\n",
      "Getting Product 14\n",
      "Getting Product 15\n",
      "Getting Product 16\n",
      "Getting Product 17\n",
      "Getting Product 18\n",
      "Getting Product 19\n",
      "Getting Product 20\n",
      "Getting Product 21\n",
      "Getting Product 22\n",
      "Getting Product 23\n",
      "Getting Product 24\n",
      "Getting Product 25\n",
      "Getting Product 26\n",
      "Getting Product 27\n",
      "Getting Product 28\n"
     ]
    }
   ],
   "source": [
    "#Getting all the laptop listing\n",
    "#This code ignores listings which do not have all the necessary information\n",
    "\n",
    "time.sleep(3)\n",
    "\n",
    "title = []\n",
    "price = []\n",
    "rating = []\n",
    "\n",
    "for index in range(2,30):\n",
    "    try:\n",
    "        print(f'Getting Product {index-1}')\n",
    "      \n",
    "        i7 = driverAmazon.find_element_by_xpath(f'//*[@id=\"search\"]/div[1]/div/div[1]/div/span[3]/div[2]/div[{index}]/div/span/div').text.split('\\n')\n",
    "        i7Rating = driverAmazon.find_element_by_xpath(f'//*[@id=\"search\"]/div[1]/div/div[1]/div/span[3]/div[2]/div[{index}]/div/span/div/div/div[2]/div[2]/div/div[2]/div/span[1]/span/a/i[1]/span').get_attribute('innerHTML')\n",
    "        title.append(i7[0])\n",
    "        price.append(i7[2])\n",
    "        rating.append(i7Rating)\n",
    "    except IndexError:\n",
    "        title.pop()\n",
    "        continue\n",
    "    \n",
    "    except NoSuchElementException:\n",
    "        continue"
   ]
  },
  {
   "cell_type": "code",
   "execution_count": 130,
   "metadata": {},
   "outputs": [
    {
     "data": {
      "text/plain": [
       "16"
      ]
     },
     "execution_count": 130,
     "metadata": {},
     "output_type": "execute_result"
    }
   ],
   "source": [
    "len(title)"
   ]
  },
  {
   "cell_type": "code",
   "execution_count": 131,
   "metadata": {},
   "outputs": [
    {
     "data": {
      "text/plain": [
       "16"
      ]
     },
     "execution_count": 131,
     "metadata": {},
     "output_type": "execute_result"
    }
   ],
   "source": [
    "len(rating)"
   ]
  },
  {
   "cell_type": "code",
   "execution_count": 132,
   "metadata": {},
   "outputs": [
    {
     "data": {
      "text/plain": [
       "16"
      ]
     },
     "execution_count": 132,
     "metadata": {},
     "output_type": "execute_result"
    }
   ],
   "source": [
    "len(price)"
   ]
  },
  {
   "cell_type": "code",
   "execution_count": 133,
   "metadata": {},
   "outputs": [
    {
     "data": {
      "text/html": [
       "<div>\n",
       "<style scoped>\n",
       "    .dataframe tbody tr th:only-of-type {\n",
       "        vertical-align: middle;\n",
       "    }\n",
       "\n",
       "    .dataframe tbody tr th {\n",
       "        vertical-align: top;\n",
       "    }\n",
       "\n",
       "    .dataframe thead th {\n",
       "        text-align: right;\n",
       "    }\n",
       "</style>\n",
       "<table border=\"1\" class=\"dataframe\">\n",
       "  <thead>\n",
       "    <tr style=\"text-align: right;\">\n",
       "      <th></th>\n",
       "      <th>Name</th>\n",
       "      <th>Price</th>\n",
       "      <th>Rating</th>\n",
       "    </tr>\n",
       "  </thead>\n",
       "  <tbody>\n",
       "    <tr>\n",
       "      <th>0</th>\n",
       "      <td>Mi Notebook Horizon Edition 14 Intel Core i5-1...</td>\n",
       "      <td>Deal of the Day</td>\n",
       "      <td>4.4 out of 5 stars</td>\n",
       "    </tr>\n",
       "    <tr>\n",
       "      <th>1</th>\n",
       "      <td>Lenovo Legion 5Pi 10th Gen Intel Core i7 15.6\"...</td>\n",
       "      <td>₹1,35,490</td>\n",
       "      <td>4.3 out of 5 stars</td>\n",
       "    </tr>\n",
       "    <tr>\n",
       "      <th>2</th>\n",
       "      <td>HP Pavilion (2021) Thin &amp; Light 11th Gen Core ...</td>\n",
       "      <td>₹84,999</td>\n",
       "      <td>4.4 out of 5 stars</td>\n",
       "    </tr>\n",
       "    <tr>\n",
       "      <th>3</th>\n",
       "      <td>Asus ROG Zephyrus S Ultra Slim Gaming Laptop, ...</td>\n",
       "      <td>₹3,43,099</td>\n",
       "      <td>4.0 out of 5 stars</td>\n",
       "    </tr>\n",
       "    <tr>\n",
       "      <th>4</th>\n",
       "      <td>Lenovo Legion Y540 Intel Core i7 9th Gen 15.6”...</td>\n",
       "      <td>Deal of the Day</td>\n",
       "      <td>4.3 out of 5 stars</td>\n",
       "    </tr>\n",
       "    <tr>\n",
       "      <th>5</th>\n",
       "      <td>HP Pavilion Gaming 10th Gen Intel Core i7 Proc...</td>\n",
       "      <td>₹84,990</td>\n",
       "      <td>3.0 out of 5 stars</td>\n",
       "    </tr>\n",
       "    <tr>\n",
       "      <th>6</th>\n",
       "      <td>Life Digital Laptop 15.6-inch (39.62 cms) (Int...</td>\n",
       "      <td>₹42,409</td>\n",
       "      <td>2.6 out of 5 stars</td>\n",
       "    </tr>\n",
       "    <tr>\n",
       "      <th>7</th>\n",
       "      <td>ASUS VivoBook S S14 Intel Core i7-1165G7 11th ...</td>\n",
       "      <td>₹79,980</td>\n",
       "      <td>4.4 out of 5 stars</td>\n",
       "    </tr>\n",
       "    <tr>\n",
       "      <th>8</th>\n",
       "      <td>Acer Nitro 5 Intel Core i7-9th Gen 17.3-inch D...</td>\n",
       "      <td>₹69,990</td>\n",
       "      <td>3.0 out of 5 stars</td>\n",
       "    </tr>\n",
       "    <tr>\n",
       "      <th>9</th>\n",
       "      <td>Life Digital Laptop 15.6-inch (39.62 cms) (Int...</td>\n",
       "      <td>₹47,050</td>\n",
       "      <td>2.9 out of 5 stars</td>\n",
       "    </tr>\n",
       "    <tr>\n",
       "      <th>10</th>\n",
       "      <td>Dell Inspiron 5406 14\" FHD Touch Display 2in1 ...</td>\n",
       "      <td>₹84,872</td>\n",
       "      <td>3.5 out of 5 stars</td>\n",
       "    </tr>\n",
       "    <tr>\n",
       "      <th>11</th>\n",
       "      <td>2019 HP 17.3\" HD+ Touchscreen Laptop Computer</td>\n",
       "      <td>₹2,01,524</td>\n",
       "      <td>4.5 out of 5 stars</td>\n",
       "    </tr>\n",
       "    <tr>\n",
       "      <th>12</th>\n",
       "      <td>CUK VivoBook K571 by ASUS 15 Inch Gaming Lapto...</td>\n",
       "      <td>₹1,44,643</td>\n",
       "      <td>4.7 out of 5 stars</td>\n",
       "    </tr>\n",
       "    <tr>\n",
       "      <th>13</th>\n",
       "      <td>(Renewed) Lenovo Intel 4th Gen Core i7-4980HQ ...</td>\n",
       "      <td>₹46,290</td>\n",
       "      <td>3.0 out of 5 stars</td>\n",
       "    </tr>\n",
       "    <tr>\n",
       "      <th>14</th>\n",
       "      <td>Lenovo 2019 Yoga C930 2-in-1 13.9\" 4K UHD Touc...</td>\n",
       "      <td>₹2,16,327</td>\n",
       "      <td>4.1 out of 5 stars</td>\n",
       "    </tr>\n",
       "    <tr>\n",
       "      <th>15</th>\n",
       "      <td>OMEN by HP 15.6-inch 10th Gen Intel Core i7-10...</td>\n",
       "      <td>₹1,34,999</td>\n",
       "      <td>1.9 out of 5 stars</td>\n",
       "    </tr>\n",
       "  </tbody>\n",
       "</table>\n",
       "</div>"
      ],
      "text/plain": [
       "                                                 Name            Price  \\\n",
       "0   Mi Notebook Horizon Edition 14 Intel Core i5-1...  Deal of the Day   \n",
       "1   Lenovo Legion 5Pi 10th Gen Intel Core i7 15.6\"...        ₹1,35,490   \n",
       "2   HP Pavilion (2021) Thin & Light 11th Gen Core ...          ₹84,999   \n",
       "3   Asus ROG Zephyrus S Ultra Slim Gaming Laptop, ...        ₹3,43,099   \n",
       "4   Lenovo Legion Y540 Intel Core i7 9th Gen 15.6”...  Deal of the Day   \n",
       "5   HP Pavilion Gaming 10th Gen Intel Core i7 Proc...          ₹84,990   \n",
       "6   Life Digital Laptop 15.6-inch (39.62 cms) (Int...          ₹42,409   \n",
       "7   ASUS VivoBook S S14 Intel Core i7-1165G7 11th ...          ₹79,980   \n",
       "8   Acer Nitro 5 Intel Core i7-9th Gen 17.3-inch D...          ₹69,990   \n",
       "9   Life Digital Laptop 15.6-inch (39.62 cms) (Int...          ₹47,050   \n",
       "10  Dell Inspiron 5406 14\" FHD Touch Display 2in1 ...          ₹84,872   \n",
       "11      2019 HP 17.3\" HD+ Touchscreen Laptop Computer        ₹2,01,524   \n",
       "12  CUK VivoBook K571 by ASUS 15 Inch Gaming Lapto...        ₹1,44,643   \n",
       "13  (Renewed) Lenovo Intel 4th Gen Core i7-4980HQ ...          ₹46,290   \n",
       "14  Lenovo 2019 Yoga C930 2-in-1 13.9\" 4K UHD Touc...        ₹2,16,327   \n",
       "15  OMEN by HP 15.6-inch 10th Gen Intel Core i7-10...        ₹1,34,999   \n",
       "\n",
       "                Rating  \n",
       "0   4.4 out of 5 stars  \n",
       "1   4.3 out of 5 stars  \n",
       "2   4.4 out of 5 stars  \n",
       "3   4.0 out of 5 stars  \n",
       "4   4.3 out of 5 stars  \n",
       "5   3.0 out of 5 stars  \n",
       "6   2.6 out of 5 stars  \n",
       "7   4.4 out of 5 stars  \n",
       "8   3.0 out of 5 stars  \n",
       "9   2.9 out of 5 stars  \n",
       "10  3.5 out of 5 stars  \n",
       "11  4.5 out of 5 stars  \n",
       "12  4.7 out of 5 stars  \n",
       "13  3.0 out of 5 stars  \n",
       "14  4.1 out of 5 stars  \n",
       "15  1.9 out of 5 stars  "
      ]
     },
     "execution_count": 133,
     "metadata": {},
     "output_type": "execute_result"
    }
   ],
   "source": [
    "#making a dataframe with i7 laptop information\n",
    "\n",
    "i7laptopDf = pd.DataFrame()\n",
    "\n",
    "i7laptopDf['Name'] = title\n",
    "i7laptopDf['Price'] = price\n",
    "i7laptopDf['Rating'] = rating\n",
    "\n",
    "i7laptopDf"
   ]
  },
  {
   "cell_type": "code",
   "execution_count": 134,
   "metadata": {},
   "outputs": [],
   "source": [
    "#closing the browers\n",
    "driverAmazon.close()"
   ]
  },
  {
   "cell_type": "code",
   "execution_count": 135,
   "metadata": {},
   "outputs": [],
   "source": [
    "#Starting a new session and seraching for laptop\n",
    "time.sleep(2)\n",
    "driverAmazon = webdriver.Edge(\"msedgedriver.exe\")\n",
    "driverAmazon.get('https://www.amazon.in')"
   ]
  },
  {
   "cell_type": "code",
   "execution_count": 136,
   "metadata": {},
   "outputs": [],
   "source": [
    "driverAmazon.find_element_by_xpath('//*[@id=\"twotabsearchtextbox\"]').send_keys('Laptop')"
   ]
  },
  {
   "cell_type": "code",
   "execution_count": 137,
   "metadata": {},
   "outputs": [],
   "source": [
    "driverAmazon.find_element_by_xpath('//*[@id=\"nav-search-submit-button\"]').click()"
   ]
  },
  {
   "cell_type": "code",
   "execution_count": 138,
   "metadata": {},
   "outputs": [],
   "source": [
    "#Applying the i9 filter\n",
    "time.sleep(3)\n",
    "driverAmazon.find_element_by_xpath('//*[@id=\"p_n_feature_thirteen_browse-bin/16757432031\"]/span/a/span').click()"
   ]
  },
  {
   "cell_type": "code",
   "execution_count": 139,
   "metadata": {},
   "outputs": [
    {
     "data": {
      "text/plain": [
       "['ASUS ZenBook Pro Duo Intel Core i9-10980HK 10th Gen 15.6\" 4K UHD OLED Touchscreen Laptop (32GB RAM/1TB NVMe SSD/Windows 10/6GB NVIDIA GeForce RTX 2060 Graphics/Celestial Blue/2.5 Kg), UX581LV-H2035T',\n",
       " '4',\n",
       " '₹2,99,325',\n",
       " '₹3,26,990 Save ₹27,665 (8%)',\n",
       " 'Save extra with No Cost EMI',\n",
       " 'Get it by Monday, May 31',\n",
       " 'FREE Delivery by Amazon',\n",
       " 'Only 1 left in stock.']"
      ]
     },
     "execution_count": 139,
     "metadata": {},
     "output_type": "execute_result"
    }
   ],
   "source": [
    "#checking the first listing to study the structure\n",
    "i9 = driverAmazon.find_element_by_xpath('//*[@id=\"search\"]/div[1]/div/div[1]/div/span[3]/div[2]/div[2]/div/div/div/div[2]/div[2]/div').text.split('\\n')\n",
    "i9"
   ]
  },
  {
   "cell_type": "code",
   "execution_count": 140,
   "metadata": {},
   "outputs": [
    {
     "data": {
      "text/plain": [
       "'ASUS ZenBook Pro Duo Intel Core i9-10980HK 10th Gen 15.6\" 4K UHD OLED Touchscreen Laptop (32GB RAM/1TB NVMe SSD/Windows 10/6GB NVIDIA GeForce RTX 2060 Graphics/Celestial Blue/2.5 Kg), UX581LV-H2035T'"
      ]
     },
     "execution_count": 140,
     "metadata": {},
     "output_type": "execute_result"
    }
   ],
   "source": [
    "i9[0]"
   ]
  },
  {
   "cell_type": "code",
   "execution_count": 141,
   "metadata": {},
   "outputs": [
    {
     "data": {
      "text/plain": [
       "'₹2,99,325'"
      ]
     },
     "execution_count": 141,
     "metadata": {},
     "output_type": "execute_result"
    }
   ],
   "source": [
    "i9[2]"
   ]
  },
  {
   "cell_type": "code",
   "execution_count": 142,
   "metadata": {},
   "outputs": [
    {
     "data": {
      "text/plain": [
       "'3.8 out of 5 stars'"
      ]
     },
     "execution_count": 142,
     "metadata": {},
     "output_type": "execute_result"
    }
   ],
   "source": [
    "i9rating = driverAmazon.find_element_by_xpath('//*[@id=\"search\"]/div[1]/div/div[1]/div/span[3]/div[2]/div[2]/div/div/div/div[2]/div[2]/div/div[2]/div/span[1]/span/a/i[1]/span').get_attribute('innerHTML')\n",
    "i9rating"
   ]
  },
  {
   "cell_type": "code",
   "execution_count": 143,
   "metadata": {},
   "outputs": [
    {
     "name": "stdout",
     "output_type": "stream",
     "text": [
      "Getting Product 0\n",
      "Getting Product 1\n",
      "Getting Product 2\n",
      "Getting Product 3\n",
      "Getting Product 4\n",
      "Getting Product 5\n",
      "Getting Product 6\n",
      "Getting Product 7\n",
      "Getting Product 8\n",
      "Getting Product 9\n",
      "Getting Product 10\n",
      "Getting Product 11\n",
      "Getting Product 12\n",
      "Getting Product 13\n",
      "Getting Product 14\n",
      "Getting Product 15\n",
      "Getting Product 16\n",
      "Getting Product 17\n",
      "Getting Product 18\n",
      "Getting Product 19\n",
      "Getting Product 20\n",
      "Getting Product 21\n",
      "Getting Product 22\n",
      "Getting Product 23\n",
      "Getting Product 24\n",
      "Getting Product 25\n",
      "Getting Product 26\n",
      "Getting Product 27\n",
      "Getting Product 28\n",
      "Getting Product 29\n"
     ]
    }
   ],
   "source": [
    "#Getting all the laptop listing\n",
    "#This code ignores listings which do not have all the necessary information\n",
    "\n",
    "time.sleep(3)\n",
    "\n",
    "title = []\n",
    "price = []\n",
    "rating = []\n",
    "\n",
    "for index in range(0,30):\n",
    "    try:\n",
    "        print(f'Getting Product {index}')\n",
    "        i9 = driverAmazon.find_element_by_xpath(f'//*[@id=\"search\"]/div[1]/div/div[1]/div/span[3]/div[2]/div[{index}]/div/div/div/div[2]/div[2]/div').text.split('\\n')\n",
    "\n",
    "        i9Rating = driverAmazon.find_element_by_xpath(f'//*[@id=\"search\"]/div[1]/div/div[1]/div/span[3]/div[2]/div[{index}]/div/div/div/div[2]/div[2]/div/div[2]/div/span[1]/span/a/i[1]/span').get_attribute('innerHTML')\n",
    "        title.append(i9[0])\n",
    "        price.append(i9[2])\n",
    "        rating.append(i9Rating[0:3])\n",
    "    except IndexError:\n",
    "        title.pop()\n",
    "        continue\n",
    "    \n",
    "    except NoSuchElementException:\n",
    "        continue"
   ]
  },
  {
   "cell_type": "code",
   "execution_count": 144,
   "metadata": {},
   "outputs": [
    {
     "data": {
      "text/plain": [
       "6"
      ]
     },
     "execution_count": 144,
     "metadata": {},
     "output_type": "execute_result"
    }
   ],
   "source": [
    "len(title)"
   ]
  },
  {
   "cell_type": "code",
   "execution_count": 145,
   "metadata": {},
   "outputs": [
    {
     "data": {
      "text/plain": [
       "6"
      ]
     },
     "execution_count": 145,
     "metadata": {},
     "output_type": "execute_result"
    }
   ],
   "source": [
    "len(price)"
   ]
  },
  {
   "cell_type": "code",
   "execution_count": 146,
   "metadata": {},
   "outputs": [
    {
     "data": {
      "text/plain": [
       "6"
      ]
     },
     "execution_count": 146,
     "metadata": {},
     "output_type": "execute_result"
    }
   ],
   "source": [
    "len(rating)"
   ]
  },
  {
   "cell_type": "code",
   "execution_count": 147,
   "metadata": {},
   "outputs": [
    {
     "data": {
      "text/html": [
       "<div>\n",
       "<style scoped>\n",
       "    .dataframe tbody tr th:only-of-type {\n",
       "        vertical-align: middle;\n",
       "    }\n",
       "\n",
       "    .dataframe tbody tr th {\n",
       "        vertical-align: top;\n",
       "    }\n",
       "\n",
       "    .dataframe thead th {\n",
       "        text-align: right;\n",
       "    }\n",
       "</style>\n",
       "<table border=\"1\" class=\"dataframe\">\n",
       "  <thead>\n",
       "    <tr style=\"text-align: right;\">\n",
       "      <th></th>\n",
       "      <th>Name</th>\n",
       "      <th>Price</th>\n",
       "      <th>Rating</th>\n",
       "    </tr>\n",
       "  </thead>\n",
       "  <tbody>\n",
       "    <tr>\n",
       "      <th>0</th>\n",
       "      <td>ASUS ZenBook Pro Duo Intel Core i9-10980HK 10t...</td>\n",
       "      <td>₹2,99,325</td>\n",
       "      <td>3.8</td>\n",
       "    </tr>\n",
       "    <tr>\n",
       "      <th>1</th>\n",
       "      <td>Dell XPS 9570 15.6\" (39.62cms) UHD Laptop (8th...</td>\n",
       "      <td>₹2,48,790</td>\n",
       "      <td>2.4</td>\n",
       "    </tr>\n",
       "    <tr>\n",
       "      <th>2</th>\n",
       "      <td>Lenovo Legion 7 10th Gen Intel Core i9 15.6 in...</td>\n",
       "      <td>₹2,62,990</td>\n",
       "      <td>3.7</td>\n",
       "    </tr>\n",
       "    <tr>\n",
       "      <th>3</th>\n",
       "      <td>ASUS ROG Strix Scar 17 (2020), 17.3\" FHD 300Hz...</td>\n",
       "      <td>₹2,77,490</td>\n",
       "      <td>4.8</td>\n",
       "    </tr>\n",
       "    <tr>\n",
       "      <th>4</th>\n",
       "      <td>Apple MacBook Pro (16-inch, 16GB RAM, 1TB Stor...</td>\n",
       "      <td>₹2,24,990</td>\n",
       "      <td>4.2</td>\n",
       "    </tr>\n",
       "    <tr>\n",
       "      <th>5</th>\n",
       "      <td>HP Z4 Workstation, Intel Core i9-7900X, RAM 32...</td>\n",
       "      <td>₹2,69,900</td>\n",
       "      <td>5.0</td>\n",
       "    </tr>\n",
       "  </tbody>\n",
       "</table>\n",
       "</div>"
      ],
      "text/plain": [
       "                                                Name      Price Rating\n",
       "0  ASUS ZenBook Pro Duo Intel Core i9-10980HK 10t...  ₹2,99,325    3.8\n",
       "1  Dell XPS 9570 15.6\" (39.62cms) UHD Laptop (8th...  ₹2,48,790    2.4\n",
       "2  Lenovo Legion 7 10th Gen Intel Core i9 15.6 in...  ₹2,62,990    3.7\n",
       "3  ASUS ROG Strix Scar 17 (2020), 17.3\" FHD 300Hz...  ₹2,77,490    4.8\n",
       "4  Apple MacBook Pro (16-inch, 16GB RAM, 1TB Stor...  ₹2,24,990    4.2\n",
       "5  HP Z4 Workstation, Intel Core i9-7900X, RAM 32...  ₹2,69,900    5.0"
      ]
     },
     "execution_count": 147,
     "metadata": {},
     "output_type": "execute_result"
    }
   ],
   "source": [
    "#making a dataframe with i7 laptop information\n",
    "\n",
    "i9laptopDf = pd.DataFrame()\n",
    "\n",
    "i9laptopDf['Name'] = title\n",
    "i9laptopDf['Price'] = price\n",
    "i9laptopDf['Rating'] = rating\n",
    "\n",
    "i9laptopDf"
   ]
  },
  {
   "cell_type": "code",
   "execution_count": 148,
   "metadata": {},
   "outputs": [
    {
     "data": {
      "text/html": [
       "<div>\n",
       "<style scoped>\n",
       "    .dataframe tbody tr th:only-of-type {\n",
       "        vertical-align: middle;\n",
       "    }\n",
       "\n",
       "    .dataframe tbody tr th {\n",
       "        vertical-align: top;\n",
       "    }\n",
       "\n",
       "    .dataframe thead th {\n",
       "        text-align: right;\n",
       "    }\n",
       "</style>\n",
       "<table border=\"1\" class=\"dataframe\">\n",
       "  <thead>\n",
       "    <tr style=\"text-align: right;\">\n",
       "      <th></th>\n",
       "      <th>Name</th>\n",
       "      <th>Price</th>\n",
       "      <th>Rating</th>\n",
       "    </tr>\n",
       "  </thead>\n",
       "  <tbody>\n",
       "    <tr>\n",
       "      <th>0</th>\n",
       "      <td>Mi Notebook Horizon Edition 14 Intel Core i5-1...</td>\n",
       "      <td>Deal of the Day</td>\n",
       "      <td>4.4 out of 5 stars</td>\n",
       "    </tr>\n",
       "    <tr>\n",
       "      <th>1</th>\n",
       "      <td>Lenovo Legion 5Pi 10th Gen Intel Core i7 15.6\"...</td>\n",
       "      <td>₹1,35,490</td>\n",
       "      <td>4.3 out of 5 stars</td>\n",
       "    </tr>\n",
       "    <tr>\n",
       "      <th>2</th>\n",
       "      <td>HP Pavilion (2021) Thin &amp; Light 11th Gen Core ...</td>\n",
       "      <td>₹84,999</td>\n",
       "      <td>4.4 out of 5 stars</td>\n",
       "    </tr>\n",
       "    <tr>\n",
       "      <th>3</th>\n",
       "      <td>Asus ROG Zephyrus S Ultra Slim Gaming Laptop, ...</td>\n",
       "      <td>₹3,43,099</td>\n",
       "      <td>4.0 out of 5 stars</td>\n",
       "    </tr>\n",
       "    <tr>\n",
       "      <th>4</th>\n",
       "      <td>Lenovo Legion Y540 Intel Core i7 9th Gen 15.6”...</td>\n",
       "      <td>Deal of the Day</td>\n",
       "      <td>4.3 out of 5 stars</td>\n",
       "    </tr>\n",
       "    <tr>\n",
       "      <th>5</th>\n",
       "      <td>HP Pavilion Gaming 10th Gen Intel Core i7 Proc...</td>\n",
       "      <td>₹84,990</td>\n",
       "      <td>3.0 out of 5 stars</td>\n",
       "    </tr>\n",
       "    <tr>\n",
       "      <th>6</th>\n",
       "      <td>Life Digital Laptop 15.6-inch (39.62 cms) (Int...</td>\n",
       "      <td>₹42,409</td>\n",
       "      <td>2.6 out of 5 stars</td>\n",
       "    </tr>\n",
       "    <tr>\n",
       "      <th>7</th>\n",
       "      <td>ASUS VivoBook S S14 Intel Core i7-1165G7 11th ...</td>\n",
       "      <td>₹79,980</td>\n",
       "      <td>4.4 out of 5 stars</td>\n",
       "    </tr>\n",
       "    <tr>\n",
       "      <th>8</th>\n",
       "      <td>Acer Nitro 5 Intel Core i7-9th Gen 17.3-inch D...</td>\n",
       "      <td>₹69,990</td>\n",
       "      <td>3.0 out of 5 stars</td>\n",
       "    </tr>\n",
       "    <tr>\n",
       "      <th>9</th>\n",
       "      <td>Life Digital Laptop 15.6-inch (39.62 cms) (Int...</td>\n",
       "      <td>₹47,050</td>\n",
       "      <td>2.9 out of 5 stars</td>\n",
       "    </tr>\n",
       "    <tr>\n",
       "      <th>10</th>\n",
       "      <td>Dell Inspiron 5406 14\" FHD Touch Display 2in1 ...</td>\n",
       "      <td>₹84,872</td>\n",
       "      <td>3.5 out of 5 stars</td>\n",
       "    </tr>\n",
       "    <tr>\n",
       "      <th>11</th>\n",
       "      <td>2019 HP 17.3\" HD+ Touchscreen Laptop Computer</td>\n",
       "      <td>₹2,01,524</td>\n",
       "      <td>4.5 out of 5 stars</td>\n",
       "    </tr>\n",
       "    <tr>\n",
       "      <th>12</th>\n",
       "      <td>CUK VivoBook K571 by ASUS 15 Inch Gaming Lapto...</td>\n",
       "      <td>₹1,44,643</td>\n",
       "      <td>4.7 out of 5 stars</td>\n",
       "    </tr>\n",
       "    <tr>\n",
       "      <th>13</th>\n",
       "      <td>(Renewed) Lenovo Intel 4th Gen Core i7-4980HQ ...</td>\n",
       "      <td>₹46,290</td>\n",
       "      <td>3.0 out of 5 stars</td>\n",
       "    </tr>\n",
       "    <tr>\n",
       "      <th>14</th>\n",
       "      <td>Lenovo 2019 Yoga C930 2-in-1 13.9\" 4K UHD Touc...</td>\n",
       "      <td>₹2,16,327</td>\n",
       "      <td>4.1 out of 5 stars</td>\n",
       "    </tr>\n",
       "    <tr>\n",
       "      <th>15</th>\n",
       "      <td>OMEN by HP 15.6-inch 10th Gen Intel Core i7-10...</td>\n",
       "      <td>₹1,34,999</td>\n",
       "      <td>1.9 out of 5 stars</td>\n",
       "    </tr>\n",
       "    <tr>\n",
       "      <th>16</th>\n",
       "      <td>ASUS ZenBook Pro Duo Intel Core i9-10980HK 10t...</td>\n",
       "      <td>₹2,99,325</td>\n",
       "      <td>3.8</td>\n",
       "    </tr>\n",
       "    <tr>\n",
       "      <th>17</th>\n",
       "      <td>Dell XPS 9570 15.6\" (39.62cms) UHD Laptop (8th...</td>\n",
       "      <td>₹2,48,790</td>\n",
       "      <td>2.4</td>\n",
       "    </tr>\n",
       "    <tr>\n",
       "      <th>18</th>\n",
       "      <td>Lenovo Legion 7 10th Gen Intel Core i9 15.6 in...</td>\n",
       "      <td>₹2,62,990</td>\n",
       "      <td>3.7</td>\n",
       "    </tr>\n",
       "    <tr>\n",
       "      <th>19</th>\n",
       "      <td>ASUS ROG Strix Scar 17 (2020), 17.3\" FHD 300Hz...</td>\n",
       "      <td>₹2,77,490</td>\n",
       "      <td>4.8</td>\n",
       "    </tr>\n",
       "    <tr>\n",
       "      <th>20</th>\n",
       "      <td>Apple MacBook Pro (16-inch, 16GB RAM, 1TB Stor...</td>\n",
       "      <td>₹2,24,990</td>\n",
       "      <td>4.2</td>\n",
       "    </tr>\n",
       "    <tr>\n",
       "      <th>21</th>\n",
       "      <td>HP Z4 Workstation, Intel Core i9-7900X, RAM 32...</td>\n",
       "      <td>₹2,69,900</td>\n",
       "      <td>5.0</td>\n",
       "    </tr>\n",
       "  </tbody>\n",
       "</table>\n",
       "</div>"
      ],
      "text/plain": [
       "                                                 Name            Price  \\\n",
       "0   Mi Notebook Horizon Edition 14 Intel Core i5-1...  Deal of the Day   \n",
       "1   Lenovo Legion 5Pi 10th Gen Intel Core i7 15.6\"...        ₹1,35,490   \n",
       "2   HP Pavilion (2021) Thin & Light 11th Gen Core ...          ₹84,999   \n",
       "3   Asus ROG Zephyrus S Ultra Slim Gaming Laptop, ...        ₹3,43,099   \n",
       "4   Lenovo Legion Y540 Intel Core i7 9th Gen 15.6”...  Deal of the Day   \n",
       "5   HP Pavilion Gaming 10th Gen Intel Core i7 Proc...          ₹84,990   \n",
       "6   Life Digital Laptop 15.6-inch (39.62 cms) (Int...          ₹42,409   \n",
       "7   ASUS VivoBook S S14 Intel Core i7-1165G7 11th ...          ₹79,980   \n",
       "8   Acer Nitro 5 Intel Core i7-9th Gen 17.3-inch D...          ₹69,990   \n",
       "9   Life Digital Laptop 15.6-inch (39.62 cms) (Int...          ₹47,050   \n",
       "10  Dell Inspiron 5406 14\" FHD Touch Display 2in1 ...          ₹84,872   \n",
       "11      2019 HP 17.3\" HD+ Touchscreen Laptop Computer        ₹2,01,524   \n",
       "12  CUK VivoBook K571 by ASUS 15 Inch Gaming Lapto...        ₹1,44,643   \n",
       "13  (Renewed) Lenovo Intel 4th Gen Core i7-4980HQ ...          ₹46,290   \n",
       "14  Lenovo 2019 Yoga C930 2-in-1 13.9\" 4K UHD Touc...        ₹2,16,327   \n",
       "15  OMEN by HP 15.6-inch 10th Gen Intel Core i7-10...        ₹1,34,999   \n",
       "16  ASUS ZenBook Pro Duo Intel Core i9-10980HK 10t...        ₹2,99,325   \n",
       "17  Dell XPS 9570 15.6\" (39.62cms) UHD Laptop (8th...        ₹2,48,790   \n",
       "18  Lenovo Legion 7 10th Gen Intel Core i9 15.6 in...        ₹2,62,990   \n",
       "19  ASUS ROG Strix Scar 17 (2020), 17.3\" FHD 300Hz...        ₹2,77,490   \n",
       "20  Apple MacBook Pro (16-inch, 16GB RAM, 1TB Stor...        ₹2,24,990   \n",
       "21  HP Z4 Workstation, Intel Core i9-7900X, RAM 32...        ₹2,69,900   \n",
       "\n",
       "                Rating  \n",
       "0   4.4 out of 5 stars  \n",
       "1   4.3 out of 5 stars  \n",
       "2   4.4 out of 5 stars  \n",
       "3   4.0 out of 5 stars  \n",
       "4   4.3 out of 5 stars  \n",
       "5   3.0 out of 5 stars  \n",
       "6   2.6 out of 5 stars  \n",
       "7   4.4 out of 5 stars  \n",
       "8   3.0 out of 5 stars  \n",
       "9   2.9 out of 5 stars  \n",
       "10  3.5 out of 5 stars  \n",
       "11  4.5 out of 5 stars  \n",
       "12  4.7 out of 5 stars  \n",
       "13  3.0 out of 5 stars  \n",
       "14  4.1 out of 5 stars  \n",
       "15  1.9 out of 5 stars  \n",
       "16                 3.8  \n",
       "17                 2.4  \n",
       "18                 3.7  \n",
       "19                 4.8  \n",
       "20                 4.2  \n",
       "21                 5.0  "
      ]
     },
     "execution_count": 148,
     "metadata": {},
     "output_type": "execute_result"
    }
   ],
   "source": [
    "#Merging the i7 and i9 information in to one dataframe\n",
    "\n",
    "laptopDf = i7laptopDf.append(i9laptopDf, ignore_index=True)\n",
    "laptopDf"
   ]
  },
  {
   "cell_type": "code",
   "execution_count": 149,
   "metadata": {},
   "outputs": [],
   "source": [
    "driverAmazon.close()"
   ]
  },
  {
   "cell_type": "code",
   "execution_count": null,
   "metadata": {},
   "outputs": [],
   "source": []
  }
 ],
 "metadata": {
  "kernelspec": {
   "display_name": "Python 3",
   "language": "python",
   "name": "python3"
  },
  "language_info": {
   "codemirror_mode": {
    "name": "ipython",
    "version": 3
   },
   "file_extension": ".py",
   "mimetype": "text/x-python",
   "name": "python",
   "nbconvert_exporter": "python",
   "pygments_lexer": "ipython3",
   "version": "3.8.5"
  }
 },
 "nbformat": 4,
 "nbformat_minor": 4
}
